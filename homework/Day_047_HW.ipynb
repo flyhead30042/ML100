{
 "cells": [
  {
   "cell_type": "markdown",
   "metadata": {},
   "source": [
    "## [作業重點]\n",
    "了解如何使用 Sklearn 中的 hyper-parameter search 找出最佳的超參數"
   ]
  },
  {
   "cell_type": "markdown",
   "metadata": {},
   "source": [
    "### 作業\n",
    "請使用不同的資料集，並使用 hyper-parameter search 的方式，看能不能找出最佳的超參數組合"
   ]
  },
  {
   "cell_type": "code",
   "execution_count": 1,
   "metadata": {},
   "outputs": [],
   "source": [
    "import os\n",
    "import random\n",
    "import numpy as np\n",
    "import pandas as pd\n",
    "import matplotlib.pyplot as plt\n",
    "import seaborn as sns\n",
    "from sklearn import datasets, linear_model\n",
    "from sklearn.model_selection import train_test_split, KFold, GridSearchCV\n",
    "from sklearn.metrics import mean_squared_error, r2_score, accuracy_score\n",
    "from sklearn.preprocessing import MinMaxScaler, LabelEncoder\n",
    "from sklearn.linear_model import Lasso, Ridge, LinearRegression\n",
    "from sklearn.ensemble import RandomForestClassifier, GradientBoostingClassifier,GradientBoostingRegressor\n",
    "from sklearn.tree import DecisionTreeClassifier, DecisionTreeRegressor\n",
    "\n",
    "from sklearn.externals.six import StringIO  \n",
    "from sklearn.tree import export_graphviz\n",
    "import pydotplus\n",
    "\n",
    "import warnings\n",
    "warnings.filterwarnings(action='ignore')"
   ]
  },
  {
   "cell_type": "code",
   "execution_count": 8,
   "metadata": {},
   "outputs": [],
   "source": [
    "dataset = datasets.load_digits()\n",
    "\n",
    "data =  pd.DataFrame(dataset['data'])\n",
    "target = pd.DataFrame(dataset['target'])"
   ]
  },
  {
   "cell_type": "code",
   "execution_count": 9,
   "metadata": {},
   "outputs": [
    {
     "name": "stdout",
     "output_type": "stream",
     "text": [
      "acc=0.9155555555555556\n"
     ]
    }
   ],
   "source": [
    "train_X, test_X, train_y, test_y = train_test_split(dataset['data'], dataset['target'], test_size=0.25, random_state=1234)\n",
    "model = GradientBoostingClassifier(loss=\"deviance\", \n",
    "                                   learning_rate=1,\n",
    "                                   n_estimators=100 )\n",
    "\n",
    "\n",
    "model.fit(train_X, train_y)\n",
    "predict_y = model.predict(test_X)\n",
    "acc =accuracy_score(predict_y, test_y)\n",
    "print(\"acc={}\".format(acc))"
   ]
  },
  {
   "cell_type": "code",
   "execution_count": 13,
   "metadata": {},
   "outputs": [
    {
     "name": "stdout",
     "output_type": "stream",
     "text": [
      "Fitting 5 folds for each of 9 candidates, totalling 45 fits\n"
     ]
    },
    {
     "name": "stderr",
     "output_type": "stream",
     "text": [
      "[Parallel(n_jobs=1)]: Using backend SequentialBackend with 1 concurrent workers.\n",
      "[Parallel(n_jobs=1)]: Done  45 out of  45 | elapsed:  1.4min finished\n"
     ]
    }
   ],
   "source": [
    "param_grid={\"n_estimators\":[20, 50,100],\n",
    "          \"learning_rate\":[0.5, 1, 1.5]}\n",
    "model_search = GridSearchCV(estimator=model, param_grid=param_grid, scoring='accuracy', n_jobs=1, cv=5, verbose=1)\n",
    "model_search.fit(train_X, train_y)            \n",
    "predict_y = model_search.predict(test_X)"
   ]
  },
  {
   "cell_type": "code",
   "execution_count": 17,
   "metadata": {
    "scrolled": true
   },
   "outputs": [
    {
     "name": "stdout",
     "output_type": "stream",
     "text": [
      "Best Accuracy: 0.9539717891610987 using {'learning_rate': 0.5, 'n_estimators': 20}\n"
     ]
    }
   ],
   "source": [
    "print(\"Best Accuracy: {} using {}\".format(model_search.best_score_, model_search.best_params_))"
   ]
  },
  {
   "cell_type": "code",
   "execution_count": 41,
   "metadata": {
    "scrolled": true
   },
   "outputs": [
    {
     "data": {
      "text/html": [
       "<div>\n",
       "<style scoped>\n",
       "    .dataframe tbody tr th:only-of-type {\n",
       "        vertical-align: middle;\n",
       "    }\n",
       "\n",
       "    .dataframe tbody tr th {\n",
       "        vertical-align: top;\n",
       "    }\n",
       "\n",
       "    .dataframe thead th {\n",
       "        text-align: right;\n",
       "    }\n",
       "</style>\n",
       "<table border=\"1\" class=\"dataframe\">\n",
       "  <thead>\n",
       "    <tr style=\"text-align: right;\">\n",
       "      <th></th>\n",
       "      <th>index</th>\n",
       "      <th>mean_fit_time</th>\n",
       "      <th>std_fit_time</th>\n",
       "      <th>mean_score_time</th>\n",
       "      <th>std_score_time</th>\n",
       "      <th>param_learning_rate</th>\n",
       "      <th>param_n_estimators</th>\n",
       "      <th>params</th>\n",
       "      <th>split0_test_score</th>\n",
       "      <th>split1_test_score</th>\n",
       "      <th>...</th>\n",
       "      <th>mean_test_score</th>\n",
       "      <th>std_test_score</th>\n",
       "      <th>rank_test_score</th>\n",
       "      <th>split0_train_score</th>\n",
       "      <th>split1_train_score</th>\n",
       "      <th>split2_train_score</th>\n",
       "      <th>split3_train_score</th>\n",
       "      <th>split4_train_score</th>\n",
       "      <th>mean_train_score</th>\n",
       "      <th>std_train_score</th>\n",
       "    </tr>\n",
       "  </thead>\n",
       "  <tbody>\n",
       "    <tr>\n",
       "      <th>0</th>\n",
       "      <td>0</td>\n",
       "      <td>0.915391</td>\n",
       "      <td>0.073873</td>\n",
       "      <td>0.002796</td>\n",
       "      <td>0.000408</td>\n",
       "      <td>0.5</td>\n",
       "      <td>20</td>\n",
       "      <td>{'learning_rate': 0.5, 'n_estimators': 20}</td>\n",
       "      <td>0.934307</td>\n",
       "      <td>0.951852</td>\n",
       "      <td>...</td>\n",
       "      <td>0.953972</td>\n",
       "      <td>0.010668</td>\n",
       "      <td>1</td>\n",
       "      <td>1.000000</td>\n",
       "      <td>1.0</td>\n",
       "      <td>1.0</td>\n",
       "      <td>1.000000</td>\n",
       "      <td>1.0</td>\n",
       "      <td>1.000000</td>\n",
       "      <td>0.000000</td>\n",
       "    </tr>\n",
       "    <tr>\n",
       "      <th>1</th>\n",
       "      <td>1</td>\n",
       "      <td>1.244182</td>\n",
       "      <td>0.021816</td>\n",
       "      <td>0.003008</td>\n",
       "      <td>0.000009</td>\n",
       "      <td>0.5</td>\n",
       "      <td>50</td>\n",
       "      <td>{'learning_rate': 0.5, 'n_estimators': 50}</td>\n",
       "      <td>0.934307</td>\n",
       "      <td>0.955556</td>\n",
       "      <td>...</td>\n",
       "      <td>0.953972</td>\n",
       "      <td>0.010193</td>\n",
       "      <td>1</td>\n",
       "      <td>1.000000</td>\n",
       "      <td>1.0</td>\n",
       "      <td>1.0</td>\n",
       "      <td>1.000000</td>\n",
       "      <td>1.0</td>\n",
       "      <td>1.000000</td>\n",
       "      <td>0.000000</td>\n",
       "    </tr>\n",
       "    <tr>\n",
       "      <th>2</th>\n",
       "      <td>2</td>\n",
       "      <td>2.065771</td>\n",
       "      <td>0.353312</td>\n",
       "      <td>0.003599</td>\n",
       "      <td>0.000486</td>\n",
       "      <td>0.5</td>\n",
       "      <td>100</td>\n",
       "      <td>{'learning_rate': 0.5, 'n_estimators': 100}</td>\n",
       "      <td>0.930657</td>\n",
       "      <td>0.951852</td>\n",
       "      <td>...</td>\n",
       "      <td>0.952487</td>\n",
       "      <td>0.011576</td>\n",
       "      <td>3</td>\n",
       "      <td>1.000000</td>\n",
       "      <td>1.0</td>\n",
       "      <td>1.0</td>\n",
       "      <td>1.000000</td>\n",
       "      <td>1.0</td>\n",
       "      <td>1.000000</td>\n",
       "      <td>0.000000</td>\n",
       "    </tr>\n",
       "    <tr>\n",
       "      <th>3</th>\n",
       "      <td>3</td>\n",
       "      <td>0.800586</td>\n",
       "      <td>0.099102</td>\n",
       "      <td>0.002596</td>\n",
       "      <td>0.000798</td>\n",
       "      <td>1</td>\n",
       "      <td>20</td>\n",
       "      <td>{'learning_rate': 1, 'n_estimators': 20}</td>\n",
       "      <td>0.894161</td>\n",
       "      <td>0.900000</td>\n",
       "      <td>...</td>\n",
       "      <td>0.916110</td>\n",
       "      <td>0.015934</td>\n",
       "      <td>5</td>\n",
       "      <td>0.999068</td>\n",
       "      <td>1.0</td>\n",
       "      <td>1.0</td>\n",
       "      <td>0.999073</td>\n",
       "      <td>1.0</td>\n",
       "      <td>0.999628</td>\n",
       "      <td>0.000455</td>\n",
       "    </tr>\n",
       "    <tr>\n",
       "      <th>4</th>\n",
       "      <td>4</td>\n",
       "      <td>1.353785</td>\n",
       "      <td>0.415553</td>\n",
       "      <td>0.006595</td>\n",
       "      <td>0.006772</td>\n",
       "      <td>1</td>\n",
       "      <td>50</td>\n",
       "      <td>{'learning_rate': 1, 'n_estimators': 50}</td>\n",
       "      <td>0.908759</td>\n",
       "      <td>0.896296</td>\n",
       "      <td>...</td>\n",
       "      <td>0.919079</td>\n",
       "      <td>0.014186</td>\n",
       "      <td>4</td>\n",
       "      <td>1.000000</td>\n",
       "      <td>1.0</td>\n",
       "      <td>1.0</td>\n",
       "      <td>1.000000</td>\n",
       "      <td>1.0</td>\n",
       "      <td>1.000000</td>\n",
       "      <td>0.000000</td>\n",
       "    </tr>\n",
       "  </tbody>\n",
       "</table>\n",
       "<p>5 rows × 23 columns</p>\n",
       "</div>"
      ],
      "text/plain": [
       "   index  mean_fit_time  std_fit_time  mean_score_time  std_score_time  \\\n",
       "0      0       0.915391      0.073873         0.002796        0.000408   \n",
       "1      1       1.244182      0.021816         0.003008        0.000009   \n",
       "2      2       2.065771      0.353312         0.003599        0.000486   \n",
       "3      3       0.800586      0.099102         0.002596        0.000798   \n",
       "4      4       1.353785      0.415553         0.006595        0.006772   \n",
       "\n",
       "  param_learning_rate param_n_estimators  \\\n",
       "0                 0.5                 20   \n",
       "1                 0.5                 50   \n",
       "2                 0.5                100   \n",
       "3                   1                 20   \n",
       "4                   1                 50   \n",
       "\n",
       "                                        params  split0_test_score  \\\n",
       "0   {'learning_rate': 0.5, 'n_estimators': 20}           0.934307   \n",
       "1   {'learning_rate': 0.5, 'n_estimators': 50}           0.934307   \n",
       "2  {'learning_rate': 0.5, 'n_estimators': 100}           0.930657   \n",
       "3     {'learning_rate': 1, 'n_estimators': 20}           0.894161   \n",
       "4     {'learning_rate': 1, 'n_estimators': 50}           0.908759   \n",
       "\n",
       "   split1_test_score  ...  mean_test_score  std_test_score  rank_test_score  \\\n",
       "0           0.951852  ...         0.953972        0.010668                1   \n",
       "1           0.955556  ...         0.953972        0.010193                1   \n",
       "2           0.951852  ...         0.952487        0.011576                3   \n",
       "3           0.900000  ...         0.916110        0.015934                5   \n",
       "4           0.896296  ...         0.919079        0.014186                4   \n",
       "\n",
       "   split0_train_score  split1_train_score  split2_train_score  \\\n",
       "0            1.000000                 1.0                 1.0   \n",
       "1            1.000000                 1.0                 1.0   \n",
       "2            1.000000                 1.0                 1.0   \n",
       "3            0.999068                 1.0                 1.0   \n",
       "4            1.000000                 1.0                 1.0   \n",
       "\n",
       "   split3_train_score  split4_train_score  mean_train_score  std_train_score  \n",
       "0            1.000000                 1.0          1.000000         0.000000  \n",
       "1            1.000000                 1.0          1.000000         0.000000  \n",
       "2            1.000000                 1.0          1.000000         0.000000  \n",
       "3            0.999073                 1.0          0.999628         0.000455  \n",
       "4            1.000000                 1.0          1.000000         0.000000  \n",
       "\n",
       "[5 rows x 23 columns]"
      ]
     },
     "execution_count": 41,
     "metadata": {},
     "output_type": "execute_result"
    }
   ],
   "source": [
    "df = pd.DataFrame(model_search.cv_results_)\n",
    "df= df.reset_index()\n",
    "df.head()"
   ]
  },
  {
   "cell_type": "code",
   "execution_count": 18,
   "metadata": {},
   "outputs": [
    {
     "name": "stdout",
     "output_type": "stream",
     "text": [
      "acc=0.9644444444444444\n"
     ]
    }
   ],
   "source": [
    "train_X, test_X, train_y, test_y = train_test_split(dataset['data'], dataset['target'], test_size=0.25, random_state=1234)\n",
    "model = GradientBoostingClassifier(loss=\"deviance\", \n",
    "                                   learning_rate=0.5,\n",
    "                                   n_estimators=20 )\n",
    "\n",
    "\n",
    "model.fit(train_X, train_y)\n",
    "predict_y = model.predict(test_X)\n",
    "acc =accuracy_score(predict_y, test_y)\n",
    "print(\"acc={}\".format(acc))"
   ]
  },
  {
   "cell_type": "code",
   "execution_count": null,
   "metadata": {},
   "outputs": [],
   "source": []
  },
  {
   "cell_type": "code",
   "execution_count": null,
   "metadata": {},
   "outputs": [],
   "source": []
  }
 ],
 "metadata": {
  "kernelspec": {
   "display_name": "Python 3",
   "language": "python",
   "name": "python3"
  },
  "language_info": {
   "codemirror_mode": {
    "name": "ipython",
    "version": 3
   },
   "file_extension": ".py",
   "mimetype": "text/x-python",
   "name": "python",
   "nbconvert_exporter": "python",
   "pygments_lexer": "ipython3",
   "version": "3.7.3"
  },
  "varInspector": {
   "cols": {
    "lenName": 16,
    "lenType": 16,
    "lenVar": 40
   },
   "kernels_config": {
    "python": {
     "delete_cmd_postfix": "",
     "delete_cmd_prefix": "del ",
     "library": "var_list.py",
     "varRefreshCmd": "print(var_dic_list())"
    },
    "r": {
     "delete_cmd_postfix": ") ",
     "delete_cmd_prefix": "rm(",
     "library": "var_list.r",
     "varRefreshCmd": "cat(var_dic_list()) "
    }
   },
   "types_to_exclude": [
    "module",
    "function",
    "builtin_function_or_method",
    "instance",
    "_Feature"
   ],
   "window_display": false
  }
 },
 "nbformat": 4,
 "nbformat_minor": 2
}
