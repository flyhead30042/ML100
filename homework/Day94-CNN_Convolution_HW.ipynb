{
 "cells": [
  {
   "cell_type": "markdown",
   "metadata": {},
   "source": [
    "# 作業目標:\n",
    "    了解 Convolution 卷積的組成"
   ]
  },
  {
   "cell_type": "markdown",
   "metadata": {},
   "source": [
    "# 作業重點:\n",
    "    修改 a_slice_prev, 檢查 Z 的輸出"
   ]
  },
  {
   "cell_type": "code",
   "execution_count": 1,
   "metadata": {},
   "outputs": [],
   "source": [
    "import numpy as np"
   ]
  },
  {
   "cell_type": "code",
   "execution_count": 2,
   "metadata": {},
   "outputs": [],
   "source": [
    "# GRADED FUNCTION: conv_single_step\n",
    "def conv_single_step(a_slice_prev, W, b):\n",
    "    \"\"\"\n",
    "    定義一層 Kernel (內核), 使用的參數說明如下\n",
    "    Arguments:\n",
    "        a_slice_prev -- 輸入資料的維度\n",
    "        W -- 權重, 被使用在 a_slice_prev\n",
    "        b -- 偏差參數 \n",
    "    Returns:\n",
    "        Z -- 滑動窗口（W，b）卷積在前一個 feature map 上的結果\n",
    "    \"\"\"\n",
    "\n",
    "    # 定義一個元素介於 a_slice and W\n",
    "    s = a_slice_prev * W\n",
    "    # 加總所有的 \"s\" 並指定給Z.\n",
    "    Z = np.sum(s)\n",
    "    # Add bias b to Z. 這是 float() 函數,\n",
    "    Z = float(Z + b)\n",
    "\n",
    "    return Z"
   ]
  },
  {
   "cell_type": "code",
   "execution_count": 11,
   "metadata": {},
   "outputs": [
    {
     "name": "stdout",
     "output_type": "stream",
     "text": [
      "a_slice_prev=[[[3 8 4]\n",
      "  [0 1 6]\n",
      "  [3 3 1]\n",
      "  [9 1 4]]\n",
      "\n",
      " [[4 7 9]\n",
      "  [6 6 8]\n",
      "  [2 7 0]\n",
      "  [3 0 9]]\n",
      "\n",
      " [[2 6 1]\n",
      "  [4 5 0]\n",
      "  [3 1 1]\n",
      "  [8 8 7]]\n",
      "\n",
      " [[9 6 5]\n",
      "  [7 3 5]\n",
      "  [5 3 1]\n",
      "  [0 2 2]]]\n",
      "W=[[[0 0 0]\n",
      "  [0 1 0]\n",
      "  [0 0 0]\n",
      "  [1 0 0]]\n",
      "\n",
      " [[1 1 1]\n",
      "  [0 1 1]\n",
      "  [0 1 0]\n",
      "  [1 1 1]]\n",
      "\n",
      " [[0 1 0]\n",
      "  [0 1 1]\n",
      "  [0 0 1]\n",
      "  [0 1 0]]\n",
      "\n",
      " [[1 0 1]\n",
      "  [1 0 0]\n",
      "  [0 1 0]\n",
      "  [0 0 0]]]\n",
      "b=[[[1]]]\n",
      "Z = 108.0\n"
     ]
    }
   ],
   "source": [
    "'''\n",
    "\n",
    "np.random.seed(1)\n",
    "#定義一個 axaxd 的 feature map\n",
    "a_slice_prev = \n",
    "W = \n",
    "b = np.random.randn(1, 1, 1)\n",
    "\n",
    "#取得計算後,卷積矩陣的值\n",
    "Z = conv_single_step(a_slice_prev, W, b)\n",
    "print(\"Z =\", Z)\n",
    "'''\n",
    "\n",
    "a_slice_prev = np.random.randint(10, size=48).reshape(4,4,3)\n",
    "print(\"a_slice_prev={}\".format(a_slice_prev))\n",
    "W= np.random.randint(2, size=48).reshape(4,4,3)\n",
    "print(\"W={}\".format(W))\n",
    "b= np.random.randint(2, size=1).reshape(1,1,1)\n",
    "print(\"b={}\".format(b))\n",
    "Z = conv_single_step(a_slice_prev, W, b)\n",
    "print(\"Z =\", Z)"
   ]
  },
  {
   "cell_type": "code",
   "execution_count": null,
   "metadata": {},
   "outputs": [],
   "source": []
  },
  {
   "cell_type": "code",
   "execution_count": null,
   "metadata": {},
   "outputs": [],
   "source": []
  }
 ],
 "metadata": {
  "kernelspec": {
   "display_name": "Python 3",
   "language": "python",
   "name": "python3"
  },
  "language_info": {
   "codemirror_mode": {
    "name": "ipython",
    "version": 3
   },
   "file_extension": ".py",
   "mimetype": "text/x-python",
   "name": "python",
   "nbconvert_exporter": "python",
   "pygments_lexer": "ipython3",
   "version": "3.7.3"
  }
 },
 "nbformat": 4,
 "nbformat_minor": 4
}
