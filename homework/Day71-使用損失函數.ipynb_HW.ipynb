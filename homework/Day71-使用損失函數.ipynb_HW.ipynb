{
 "cells": [
  {
   "cell_type": "markdown",
   "metadata": {
    "colab_type": "text",
    "id": "cj4tE8e8iUtO"
   },
   "source": [
    "#   \n",
    "\n",
    "# 作業目標:\n",
    "\n",
    "    1. 藉由固定的 dataset, 來驗證不同loss function\n",
    "    2. Dataset 的特性跟我們選用的loss function 對accrancy 的影響\n",
    "    \n",
    "    \n",
    "# 作業重點: \n",
    "    請分別選用 \"MSE\", \"binary _crossentropy\"\n",
    "    查看Train/test accurancy and loss rate\n",
    "    "
   ]
  },
  {
   "cell_type": "markdown",
   "metadata": {
    "colab_type": "text",
    "id": "R51J4KyyiUsL"
   },
   "source": [
    "# 導入必要的函數"
   ]
  },
  {
   "cell_type": "code",
   "execution_count": 1,
   "metadata": {
    "colab": {},
    "colab_type": "code",
    "id": "Qd68OQjciUsM"
   },
   "outputs": [
    {
     "name": "stderr",
     "output_type": "stream",
     "text": [
      "Using TensorFlow backend.\n"
     ]
    }
   ],
   "source": [
    "from keras.datasets import cifar10\n",
    "import numpy as np\n",
    "np.random.seed(10)"
   ]
  },
  {
   "cell_type": "markdown",
   "metadata": {
    "colab_type": "text",
    "id": "GxKuzQLQiUsP"
   },
   "source": [
    "# 資料準備"
   ]
  },
  {
   "cell_type": "code",
   "execution_count": 20,
   "metadata": {
    "colab": {},
    "colab_type": "code",
    "id": "MIbFZdTCiUsQ"
   },
   "outputs": [],
   "source": [
    "#取得Keras Dataset\n",
    "(x_img_train,y_label_train),(x_img_test,y_label_test)=cifar10.load_data()"
   ]
  },
  {
   "cell_type": "code",
   "execution_count": 21,
   "metadata": {
    "colab": {},
    "colab_type": "code",
    "id": "J8CJVjNOiUsS"
   },
   "outputs": [
    {
     "name": "stdout",
     "output_type": "stream",
     "text": [
      "train data: images: (50000, 32, 32, 3)  labels: (50000, 1)\n",
      "test  data: images: (10000, 32, 32, 3)  labels: (10000, 1)\n"
     ]
    }
   ],
   "source": [
    "#確認 CIFAR10 Dataset 資料維度\n",
    "print(\"train data:\",'images:',x_img_train.shape,\n",
    "      \" labels:\",y_label_train.shape) \n",
    "print(\"test  data:\",'images:',x_img_test.shape ,\n",
    "      \" labels:\",y_label_test.shape) "
   ]
  },
  {
   "cell_type": "code",
   "execution_count": 26,
   "metadata": {
    "colab": {},
    "colab_type": "code",
    "id": "V3P6P4DXiUsV"
   },
   "outputs": [],
   "source": [
    "#資料正規化\n",
    "x_img_train_normalize = x_img_train.astype('float32') / 255.0\n",
    "x_img_test_normalize = x_img_test.astype('float32') / 255.0\n",
    "x_img_train_normalize = x_img_train_normalize.reshape(x_img_train_normalize.shape[0],-1)\n",
    "x_img_test_normalize = x_img_test_normalize.reshape(x_img_test_normalize.shape[0],-1)"
   ]
  },
  {
   "cell_type": "code",
   "execution_count": 27,
   "metadata": {
    "colab": {},
    "colab_type": "code",
    "id": "vsDyjKYliUsX"
   },
   "outputs": [
    {
     "data": {
      "text/plain": [
       "(10000, 10)"
      ]
     },
     "execution_count": 27,
     "metadata": {},
     "output_type": "execute_result"
    }
   ],
   "source": [
    "#針對Label 做 ONE HOT ENCODE\n",
    "from keras.utils import np_utils\n",
    "y_label_train_OneHot = np_utils.to_categorical(y_label_train)\n",
    "y_label_test_OneHot = np_utils.to_categorical(y_label_test)\n",
    "y_label_test_OneHot.shape"
   ]
  },
  {
   "cell_type": "markdown",
   "metadata": {
    "colab_type": "text",
    "id": "RutW2OtgiUsZ"
   },
   "source": [
    "# 建立模型"
   ]
  },
  {
   "cell_type": "code",
   "execution_count": 28,
   "metadata": {
    "colab": {},
    "colab_type": "code",
    "id": "aHz592aXiUsa"
   },
   "outputs": [],
   "source": [
    "from keras.models import Sequential\n",
    "from keras.layers import Dense, Dropout, Activation, Flatten\n",
    "from keras.layers import Conv2D, MaxPooling2D, ZeroPadding2D"
   ]
  },
  {
   "cell_type": "code",
   "execution_count": 13,
   "metadata": {
    "colab": {},
    "colab_type": "code",
    "id": "hslqrIp0iUse"
   },
   "outputs": [],
   "source": [
    "model = Sequential()"
   ]
  },
  {
   "cell_type": "code",
   "execution_count": 14,
   "metadata": {
    "colab": {},
    "colab_type": "code",
    "id": "Hqe35hs2iUsi"
   },
   "outputs": [],
   "source": [
    "#卷積層1"
   ]
  },
  {
   "cell_type": "code",
   "execution_count": 23,
   "metadata": {
    "colab": {},
    "colab_type": "code",
    "id": "ED7dqe1YiUsm"
   },
   "outputs": [],
   "source": [
    "# model.add(Conv2D(filters=32,kernel_size=(3,3),\n",
    "#                  input_shape=(32, 32,3), \n",
    "#                  activation='relu', \n",
    "#                  padding='same'))"
   ]
  },
  {
   "cell_type": "code",
   "execution_count": 24,
   "metadata": {
    "colab": {},
    "colab_type": "code",
    "id": "n-GRKmPViUso"
   },
   "outputs": [],
   "source": [
    "# model.add(Dropout(rate=0.25))"
   ]
  },
  {
   "cell_type": "code",
   "execution_count": 25,
   "metadata": {
    "colab": {},
    "colab_type": "code",
    "id": "GlWnnD1uiUsw"
   },
   "outputs": [],
   "source": [
    "# model.add(MaxPooling2D(pool_size=(2, 2)))"
   ]
  },
  {
   "cell_type": "code",
   "execution_count": 26,
   "metadata": {
    "colab": {},
    "colab_type": "code",
    "id": "nawlkt55iUsy"
   },
   "outputs": [],
   "source": [
    "#卷積層2與池化層2"
   ]
  },
  {
   "cell_type": "code",
   "execution_count": 27,
   "metadata": {
    "colab": {},
    "colab_type": "code",
    "id": "xxyETiKNiUs1"
   },
   "outputs": [],
   "source": [
    "# model.add(Conv2D(filters=64, kernel_size=(3, 3), \n",
    "#                  activation='relu', padding='same'))"
   ]
  },
  {
   "cell_type": "code",
   "execution_count": 28,
   "metadata": {
    "colab": {},
    "colab_type": "code",
    "id": "RqcKWtqGiUs2"
   },
   "outputs": [],
   "source": [
    "# model.add(Dropout(0.25))"
   ]
  },
  {
   "cell_type": "code",
   "execution_count": 29,
   "metadata": {
    "colab": {},
    "colab_type": "code",
    "id": "BUOOzlqfiUs4"
   },
   "outputs": [],
   "source": [
    "# model.add(MaxPooling2D(pool_size=(2, 2)))"
   ]
  },
  {
   "cell_type": "code",
   "execution_count": 30,
   "metadata": {
    "colab": {},
    "colab_type": "code",
    "id": "LpkppB2siUs7"
   },
   "outputs": [],
   "source": [
    "#建立神經網路(平坦層、隱藏層、輸出層)"
   ]
  },
  {
   "cell_type": "code",
   "execution_count": 31,
   "metadata": {
    "colab": {},
    "colab_type": "code",
    "id": "UQOfU54_iUs_"
   },
   "outputs": [],
   "source": [
    "# model.add(Flatten())\n",
    "# model.add(Dropout(rate=0.25))"
   ]
  },
  {
   "cell_type": "code",
   "execution_count": 32,
   "metadata": {
    "colab": {},
    "colab_type": "code",
    "id": "_NV-8sq4iUtD"
   },
   "outputs": [],
   "source": [
    "# model.add(Dense(1024, activation='relu'))\n",
    "# # model.add(Dropout(rate=0.25))"
   ]
  },
  {
   "cell_type": "code",
   "execution_count": 29,
   "metadata": {
    "colab": {},
    "colab_type": "code",
    "id": "qVK77krOiUtF"
   },
   "outputs": [],
   "source": [
    "\n",
    "model.add(Dense(units= 256, input_dim=x_img_train.shape[1], activation=\"relu\"))\n",
    "model.add(Dense(units= 64, activation=\"relu\"))\n",
    "model.add(Dense(units= 10, activation='softmax'))"
   ]
  },
  {
   "cell_type": "code",
   "execution_count": 32,
   "metadata": {
    "colab": {},
    "colab_type": "code",
    "id": "ZxzRIjR0iUtH"
   },
   "outputs": [
    {
     "name": "stdout",
     "output_type": "stream",
     "text": [
      "_________________________________________________________________\n",
      "Layer (type)                 Output Shape              Param #   \n",
      "=================================================================\n",
      "dense_4 (Dense)              (None, 256)               786688    \n",
      "_________________________________________________________________\n",
      "dense_5 (Dense)              (None, 64)                16448     \n",
      "_________________________________________________________________\n",
      "dense_6 (Dense)              (None, 10)                650       \n",
      "_________________________________________________________________\n",
      "dense_7 (Dense)              (None, 256)               2816      \n",
      "_________________________________________________________________\n",
      "dense_8 (Dense)              (None, 64)                16448     \n",
      "_________________________________________________________________\n",
      "dense_9 (Dense)              (None, 10)                650       \n",
      "=================================================================\n",
      "Total params: 803,786\n",
      "Trainable params: 803,786\n",
      "Non-trainable params: 0\n",
      "_________________________________________________________________\n",
      "None\n"
     ]
    }
   ],
   "source": [
    "#檢查model 的STACK\n",
    "print(model.summary())"
   ]
  },
  {
   "cell_type": "code",
   "execution_count": 58,
   "metadata": {},
   "outputs": [],
   "source": [
    "\"\"\"\n",
    "以視覺畫方式檢視訓練過程\n",
    "\"\"\"\n",
    "import pandas as pd\n",
    "import seaborn as sns\n",
    "import matplotlib.pyplot as plt\n",
    "\n",
    "def show_train_history(results):\n",
    "    for i, result in enumerate(results):\n",
    "        history = result[\"model\"].history.history\n",
    "        tag = \"({})\".format(result[\"tag\"])\n",
    "        df_acc = pd.DataFrame({\"acc\"+tag:history[\"acc\"], \"val_acc\"+tag:history[\"val_acc\"]})\n",
    "        df_loss = pd.DataFrame({\"loss\"+tag:history[\"loss\"], \"val_loss\"+tag:history[\"val_loss\"]})\n",
    "        if i ==0:\n",
    "            df_acc_results = df_acc.copy()\n",
    "            df_loss_results = df_loss.copy()\n",
    "        else:\n",
    "            df_acc_results= pd.concat([df_acc_results, df_acc], axis=1)\n",
    "            df_loss_results= pd.concat([df_loss_results, df_loss], axis=1)    \n",
    "\n",
    "    fig, ax = plt.subplots(1,2, figsize=(18,5))\n",
    "    styles = ['bs-','ro-','y^-', 'g--', 'rs-', 'g^-']    \n",
    "    g1 = df_acc_results.plot.line(style=styles, ax =ax[0])\n",
    "    g1.set_xlabel(\"Epoch\")\n",
    "    g1.set_ylabel(\"Acc\") \n",
    "    \n",
    "    g2 = df_loss_results.plot.line(style=styles, ax =ax[1])\n",
    "    g2.set_xlabel(\"Epoch\")\n",
    "    g2.set_ylabel(\"Loss\") \n",
    "    return df_acc_results, df_loss_results"
   ]
  },
  {
   "cell_type": "markdown",
   "metadata": {
    "colab_type": "text",
    "id": "QJCtpJM0iUtJ"
   },
   "source": [
    "# 載入之前訓練的模型"
   ]
  },
  {
   "cell_type": "code",
   "execution_count": 59,
   "metadata": {
    "colab": {},
    "colab_type": "code",
    "id": "JU3A6NzQiUtK"
   },
   "outputs": [
    {
     "name": "stdout",
     "output_type": "stream",
     "text": [
      "載入模型失敗!開始訓練一個新模型\n"
     ]
    }
   ],
   "source": [
    "try:\n",
    "    model.load_weights(\"SaveModel/cifarCnnModel.h5\")\n",
    "    print(\"載入模型成功!繼續訓練模型\")\n",
    "except :    \n",
    "    print(\"載入模型失敗!開始訓練一個新模型\")"
   ]
  },
  {
   "cell_type": "markdown",
   "metadata": {
    "colab_type": "text",
    "id": "qBbCuziziUtM"
   },
   "source": [
    "# 訓練模型"
   ]
  },
  {
   "cell_type": "code",
   "execution_count": 60,
   "metadata": {
    "colab": {},
    "colab_type": "code",
    "id": "Q6BiBcseiUtP"
   },
   "outputs": [
    {
     "name": "stdout",
     "output_type": "stream",
     "text": [
      "Perform loss funcion MSE\n",
      "Train on 37500 samples, validate on 12500 samples\n",
      "Epoch 1/15\n",
      "37500/37500 [==============================] - 17s 456us/step - loss: 0.0525 - acc: 0.6012 - val_loss: 0.0685 - val_acc: 0.4772\n",
      "Epoch 2/15\n",
      "37500/37500 [==============================] - 12s 308us/step - loss: 0.0526 - acc: 0.5980 - val_loss: 0.0669 - val_acc: 0.4778\n",
      "Epoch 3/15\n",
      "37500/37500 [==============================] - 12s 310us/step - loss: 0.0521 - acc: 0.6028 - val_loss: 0.0681 - val_acc: 0.4736\n",
      "Epoch 4/15\n",
      "37500/37500 [==============================] - 12s 313us/step - loss: 0.0517 - acc: 0.6085 - val_loss: 0.0673 - val_acc: 0.4772\n",
      "Epoch 5/15\n",
      "37500/37500 [==============================] - 12s 315us/step - loss: 0.0524 - acc: 0.6036 - val_loss: 0.0674 - val_acc: 0.4805\n",
      "Epoch 6/15\n",
      "37500/37500 [==============================] - 12s 322us/step - loss: 0.0521 - acc: 0.6028 - val_loss: 0.0684 - val_acc: 0.4712\n",
      "Epoch 7/15\n",
      "37500/37500 [==============================] - 12s 317us/step - loss: 0.0516 - acc: 0.6087 - val_loss: 0.0677 - val_acc: 0.4774\n",
      "Epoch 8/15\n",
      "37500/37500 [==============================] - 12s 321us/step - loss: 0.0512 - acc: 0.6127 - val_loss: 0.0678 - val_acc: 0.4800\n",
      "Epoch 9/15\n",
      "37500/37500 [==============================] - 12s 316us/step - loss: 0.0512 - acc: 0.6124 - val_loss: 0.0681 - val_acc: 0.4730\n",
      "Epoch 10/15\n",
      "37500/37500 [==============================] - 12s 322us/step - loss: 0.0508 - acc: 0.6168 - val_loss: 0.0689 - val_acc: 0.4730\n",
      "Epoch 11/15\n",
      "37500/37500 [==============================] - 12s 320us/step - loss: 0.0509 - acc: 0.6163 - val_loss: 0.0679 - val_acc: 0.4754\n",
      "Epoch 12/15\n",
      "37500/37500 [==============================] - 12s 333us/step - loss: 0.0505 - acc: 0.6180 - val_loss: 0.0684 - val_acc: 0.4749\n",
      "Epoch 13/15\n",
      "37500/37500 [==============================] - 12s 331us/step - loss: 0.0506 - acc: 0.6193 - val_loss: 0.0682 - val_acc: 0.4746\n",
      "Epoch 14/15\n",
      "37500/37500 [==============================] - 12s 326us/step - loss: 0.0498 - acc: 0.6249 - val_loss: 0.0680 - val_acc: 0.4771\n",
      "Epoch 15/15\n",
      "37500/37500 [==============================] - 12s 328us/step - loss: 0.0499 - acc: 0.6247 - val_loss: 0.0674 - val_acc: 0.4851\n",
      "10000/10000 [==============================] - 3s 252us/step\n",
      "Perform loss funcion categorical_crossentropy\n",
      "Train on 37500 samples, validate on 12500 samples\n",
      "Epoch 1/15\n",
      "37500/37500 [==============================] - 17s 464us/step - loss: 1.1205 - acc: 0.6297 - val_loss: 1.5377 - val_acc: 0.4867\n",
      "Epoch 2/15\n",
      "37500/37500 [==============================] - 12s 333us/step - loss: 1.1086 - acc: 0.6308 - val_loss: 1.5374 - val_acc: 0.4863\n",
      "Epoch 3/15\n",
      "37500/37500 [==============================] - 13s 341us/step - loss: 1.1046 - acc: 0.6325 - val_loss: 1.5746 - val_acc: 0.4789\n",
      "Epoch 4/15\n",
      "37500/37500 [==============================] - 13s 349us/step - loss: 1.1055 - acc: 0.6304 - val_loss: 1.5385 - val_acc: 0.4943\n",
      "Epoch 5/15\n",
      "37500/37500 [==============================] - 14s 362us/step - loss: 1.1009 - acc: 0.6323 - val_loss: 1.5890 - val_acc: 0.4770\n",
      "Epoch 6/15\n",
      "37500/37500 [==============================] - 13s 353us/step - loss: 1.0992 - acc: 0.6316 - val_loss: 1.5984 - val_acc: 0.4714\n",
      "Epoch 7/15\n",
      "37500/37500 [==============================] - 14s 362us/step - loss: 1.0877 - acc: 0.6359 - val_loss: 1.5714 - val_acc: 0.4732\n",
      "Epoch 8/15\n",
      "37500/37500 [==============================] - 14s 368us/step - loss: 1.0873 - acc: 0.6349 - val_loss: 1.6094 - val_acc: 0.4837\n",
      "Epoch 9/15\n",
      "37500/37500 [==============================] - 14s 379us/step - loss: 1.0740 - acc: 0.6409 - val_loss: 1.5700 - val_acc: 0.4826\n",
      "Epoch 10/15\n",
      "37500/37500 [==============================] - 15s 391us/step - loss: 1.0733 - acc: 0.6403 - val_loss: 1.5518 - val_acc: 0.4838\n",
      "Epoch 11/15\n",
      "37500/37500 [==============================] - 14s 376us/step - loss: 1.0685 - acc: 0.6416 - val_loss: 1.6232 - val_acc: 0.4789\n",
      "Epoch 12/15\n",
      "37500/37500 [==============================] - 14s 371us/step - loss: 1.0761 - acc: 0.6391 - val_loss: 1.5880 - val_acc: 0.4754\n",
      "Epoch 13/15\n",
      "37500/37500 [==============================] - 15s 388us/step - loss: 1.0769 - acc: 0.6385 - val_loss: 1.5834 - val_acc: 0.4777\n",
      "Epoch 14/15\n",
      "37500/37500 [==============================] - 15s 390us/step - loss: 1.0645 - acc: 0.6410 - val_loss: 1.5845 - val_acc: 0.4819\n",
      "Epoch 15/15\n",
      "37500/37500 [==============================] - 15s 396us/step - loss: 1.0581 - acc: 0.6431 - val_loss: 1.5762 - val_acc: 0.4831\n",
      "10000/10000 [==============================] - 3s 333us/step\n",
      "Perform loss funcion binary_crossentropy\n",
      "Train on 37500 samples, validate on 12500 samples\n",
      "Epoch 1/15\n",
      "37500/37500 [==============================] - 20s 527us/step - loss: 0.1665 - acc: 0.9377 - val_loss: 0.2387 - val_acc: 0.9136\n",
      "Epoch 2/15\n",
      "37500/37500 [==============================] - 15s 399us/step - loss: 0.1653 - acc: 0.9382 - val_loss: 0.2467 - val_acc: 0.9102\n",
      "Epoch 3/15\n",
      "37500/37500 [==============================] - 14s 384us/step - loss: 0.1648 - acc: 0.9384 - val_loss: 0.2506 - val_acc: 0.9105\n",
      "Epoch 4/15\n",
      "37500/37500 [==============================] - 15s 389us/step - loss: 0.1655 - acc: 0.9383 - val_loss: 0.2474 - val_acc: 0.9109\n",
      "Epoch 5/15\n",
      "37500/37500 [==============================] - 15s 409us/step - loss: 0.1649 - acc: 0.9384 - val_loss: 0.2453 - val_acc: 0.9118\n",
      "Epoch 6/15\n",
      "37500/37500 [==============================] - 15s 408us/step - loss: 0.1618 - acc: 0.9397 - val_loss: 0.2456 - val_acc: 0.9124\n",
      "Epoch 7/15\n",
      "37500/37500 [==============================] - 15s 407us/step - loss: 0.1624 - acc: 0.9394 - val_loss: 0.2460 - val_acc: 0.9121\n",
      "Epoch 8/15\n",
      "37500/37500 [==============================] - 15s 411us/step - loss: 0.1632 - acc: 0.9391 - val_loss: 0.2417 - val_acc: 0.9136\n",
      "Epoch 9/15\n",
      "37500/37500 [==============================] - 16s 421us/step - loss: 0.1620 - acc: 0.9400 - val_loss: 0.2527 - val_acc: 0.9112\n",
      "Epoch 10/15\n",
      "37500/37500 [==============================] - 16s 422us/step - loss: 0.1610 - acc: 0.9401 - val_loss: 0.2460 - val_acc: 0.9124\n",
      "Epoch 11/15\n",
      "37500/37500 [==============================] - 16s 425us/step - loss: 0.1594 - acc: 0.9408 - val_loss: 0.2470 - val_acc: 0.9117\n",
      "Epoch 12/15\n",
      "37500/37500 [==============================] - 16s 429us/step - loss: 0.1609 - acc: 0.9403 - val_loss: 0.2462 - val_acc: 0.9112\n",
      "Epoch 13/15\n",
      "37500/37500 [==============================] - 16s 431us/step - loss: 0.1620 - acc: 0.9395 - val_loss: 0.2506 - val_acc: 0.9117\n",
      "Epoch 14/15\n",
      "37500/37500 [==============================] - 16s 435us/step - loss: 0.1588 - acc: 0.9412 - val_loss: 0.2481 - val_acc: 0.9117\n",
      "Epoch 15/15\n",
      "37500/37500 [==============================] - 16s 431us/step - loss: 0.1593 - acc: 0.9407 - val_loss: 0.2500 - val_acc: 0.9118\n",
      "10000/10000 [==============================] - 3s 327us/step\n"
     ]
    }
   ],
   "source": [
    "'''\n",
    "作業:\n",
    "請分別選用 \"MSE\", \"binary _crossentropy\"\n",
    "查看Train/test accurancy and loss rate\n",
    "'''\n",
    "import pandas as pd\n",
    "\n",
    "scores=list()\n",
    "results=list()\n",
    "\n",
    "loss_func=[\"MSE\", \"categorical_crossentropy\", \"binary_crossentropy\"]\n",
    "epochs=15\n",
    "\n",
    "for lf in loss_func:\n",
    "    print(\"Perform loss funcion {}\".format(lf))\n",
    "    model.compile(loss=lf, optimizer='adam', metrics=['accuracy'])    \n",
    "    train_history = model.fit(x=x_img_train_normalize, y=y_label_train_OneHot, validation_split=0.25, epochs=epochs, batch_size=256, verbose=1) \n",
    "    results.append({\"tag\":lf, \"model\":model})\n",
    "    score = model.evaluate(x_img_test_normalize, y_label_test_OneHot)\n",
    "    scores.append({\"lf\":lf, \"score\":score})"
   ]
  },
  {
   "cell_type": "code",
   "execution_count": 61,
   "metadata": {},
   "outputs": [
    {
     "data": {
      "image/png": "[encoded data removed]",
      "text/plain": [
       "<Figure size 1296x360 with 2 Axes>"
      ]
     },
     "metadata": {
      "needs_background": "light"
     },
     "output_type": "display_data"
    }
   ],
   "source": [
    "\"\"\"\n",
    "將結果繪出\n",
    "\"\"\"\n",
    "import matplotlib.pyplot as plt\n",
    "%matplotlib inline\n",
    "\n",
    "df_acc_results, df_loss_results = show_train_history(results)"
   ]
  },
  {
   "cell_type": "code",
   "execution_count": 62,
   "metadata": {},
   "outputs": [
    {
     "data": {
      "text/html": [
       "<div>\n",
       "<style scoped>\n",
       "    .dataframe tbody tr th:only-of-type {\n",
       "        vertical-align: middle;\n",
       "    }\n",
       "\n",
       "    .dataframe tbody tr th {\n",
       "        vertical-align: top;\n",
       "    }\n",
       "\n",
       "    .dataframe thead th {\n",
       "        text-align: right;\n",
       "    }\n",
       "</style>\n",
       "<table border=\"1\" class=\"dataframe\">\n",
       "  <thead>\n",
       "    <tr style=\"text-align: right;\">\n",
       "      <th></th>\n",
       "      <th>lf</th>\n",
       "      <th>score</th>\n",
       "    </tr>\n",
       "  </thead>\n",
       "  <tbody>\n",
       "    <tr>\n",
       "      <th>0</th>\n",
       "      <td>MSE</td>\n",
       "      <td>[0.06696738225221634, 0.4938]</td>\n",
       "    </tr>\n",
       "    <tr>\n",
       "      <th>1</th>\n",
       "      <td>categorical_crossentropy</td>\n",
       "      <td>[1.5656983966827394, 0.4917]</td>\n",
       "    </tr>\n",
       "    <tr>\n",
       "      <th>2</th>\n",
       "      <td>binary_crossentropy</td>\n",
       "      <td>[0.2499014169216156, 0.9108200332641602]</td>\n",
       "    </tr>\n",
       "  </tbody>\n",
       "</table>\n",
       "</div>"
      ],
      "text/plain": [
       "                         lf                                     score\n",
       "0                       MSE             [0.06696738225221634, 0.4938]\n",
       "1  categorical_crossentropy              [1.5656983966827394, 0.4917]\n",
       "2       binary_crossentropy  [0.2499014169216156, 0.9108200332641602]"
      ]
     },
     "execution_count": 62,
     "metadata": {},
     "output_type": "execute_result"
    }
   ],
   "source": [
    "df_scores = pd.DataFrame(scores)\n",
    "df_scores"
   ]
  }
 ],
 "metadata": {
  "colab": {
   "name": "Day71-使用損失函數_HW.ipynb",
   "provenance": [],
   "version": "0.3.2"
  },
  "kernelspec": {
   "display_name": "Python 3",
   "language": "python",
   "name": "python3"
  },
  "language_info": {
   "codemirror_mode": {
    "name": "ipython",
    "version": 3
   },
   "file_extension": ".py",
   "mimetype": "text/x-python",
   "name": "python",
   "nbconvert_exporter": "python",
   "pygments_lexer": "ipython3",
   "version": "3.7.3"
  }
 },
 "nbformat": 4,
 "nbformat_minor": 2
}
