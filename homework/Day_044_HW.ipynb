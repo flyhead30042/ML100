{
 "cells": [
  {
   "cell_type": "markdown",
   "metadata": {},
   "source": [
    "## [作業重點]\n",
    "確保你了解隨機森林模型中每個超參數的意義，並觀察調整超參數對結果的影響"
   ]
  },
  {
   "cell_type": "markdown",
   "metadata": {},
   "source": [
    "## 作業\n",
    "\n",
    "1. 試著調整 RandomForestClassifier(...) 中的參數，並觀察是否會改變結果？\n",
    "2. 改用其他資料集 (boston, wine)，並與回歸模型與決策樹的結果進行比較"
   ]
  },
  {
   "cell_type": "code",
   "execution_count": 18,
   "metadata": {},
   "outputs": [],
   "source": [
    "import os\n",
    "import numpy as np\n",
    "import pandas as pd\n",
    "import matplotlib.pyplot as plt\n",
    "import seaborn as sns\n",
    "from sklearn import datasets, linear_model\n",
    "from sklearn.model_selection import train_test_split\n",
    "from sklearn.metrics import mean_squared_error, r2_score, accuracy_score\n",
    "from sklearn.preprocessing import MinMaxScaler, LabelEncoder\n",
    "from sklearn.linear_model import Lasso, Ridge, LinearRegression\n",
    "from sklearn.ensemble import RandomForestClassifier\n",
    "from sklearn.tree import DecisionTreeClassifier, DecisionTreeRegressor\n",
    "\n",
    "from sklearn.externals.six import StringIO  \n",
    "from sklearn.tree import export_graphviz\n",
    "import pydotplus\n",
    "\n",
    "import warnings\n",
    "warnings.filterwarnings(action='ignore')"
   ]
  },
  {
   "cell_type": "code",
   "execution_count": 33,
   "metadata": {},
   "outputs": [],
   "source": [
    "def evaluate_clf(model, dataset):\n",
    "    train_X, test_X, train_y, test_y = train_test_split(dataset['data'], dataset['target'], test_size=0.25, random_state=1234)\n",
    "    model.fit(train_X, train_y)\n",
    "    pred_y = model.predict(test_X)\n",
    "\n",
    "    acc = accuracy_score(test_y, pred_y)\n",
    "    importance = pd.Series(model.feature_importances_, index=dataset['feature_names'])\n",
    "\n",
    "    return model, importance, acc"
   ]
  },
  {
   "cell_type": "code",
   "execution_count": 37,
   "metadata": {
    "scrolled": false
   },
   "outputs": [
    {
     "name": "stdout",
     "output_type": "stream",
     "text": [
      "acc_score=0.9473684210526315\n",
      "sepal length (cm)    0.131373\n",
      "sepal width (cm)     0.070450\n",
      "petal length (cm)    0.337830\n",
      "petal width (cm)     0.460347\n",
      "dtype: float64\n",
      "acc_score=0.9736842105263158\n",
      "sepal length (cm)    0.116747\n",
      "sepal width (cm)     0.044924\n",
      "petal length (cm)    0.474878\n",
      "petal width (cm)     0.363450\n",
      "dtype: float64\n",
      "acc_score=0.9473684210526315\n",
      "sepal length (cm)    0.096222\n",
      "sepal width (cm)     0.023495\n",
      "petal length (cm)    0.418672\n",
      "petal width (cm)     0.461611\n",
      "dtype: float64\n"
     ]
    }
   ],
   "source": [
    "dataset = datasets.load_iris()\n",
    "tree, importance, acc = evaluate_clf(RandomForestClassifier(), dataset)\n",
    "print(\"acc_score={}\".format(acc))\n",
    "print(importance)\n",
    "\n",
    "# 建立模型 (使用 20 顆樹，每棵樹的最大深度為 4)\n",
    "tree, importance, acc = evaluate_clf(RandomForestClassifier(n_estimators=20, max_depth=4), dataset)\n",
    "print(\"acc_score={}\".format(acc))\n",
    "print(importance)\n",
    "\n",
    "# 建立模型 (使用 100 顆樹，每棵樹的最大深度為 8, Criterion 為 entrophy)\n",
    "tree, importance, acc = evaluate_clf(RandomForestClassifier(criterion ='entropy', n_estimators=100, max_depth=8), dataset)\n",
    "print(\"acc_score={}\".format(acc))\n",
    "print(importance)\n",
    "\n"
   ]
  },
  {
   "cell_type": "code",
   "execution_count": 40,
   "metadata": {
    "scrolled": false
   },
   "outputs": [
    {
     "name": "stdout",
     "output_type": "stream",
     "text": [
      "acc_score=0.8888888888888888\n",
      "alcohol                         0.000000\n",
      "malic_acid                      0.000000\n",
      "ash                             0.054169\n",
      "alcalinity_of_ash               0.000000\n",
      "magnesium                       0.000000\n",
      "total_phenols                   0.000000\n",
      "flavanoids                      0.427651\n",
      "nonflavanoid_phenols            0.000000\n",
      "proanthocyanins                 0.000000\n",
      "color_intensity                 0.338127\n",
      "hue                             0.000000\n",
      "od280/od315_of_diluted_wines    0.000000\n",
      "proline                         0.180053\n",
      "dtype: float64\n",
      "acc_score=0.9555555555555556\n",
      "alcohol                         0.127823\n",
      "malic_acid                      0.026184\n",
      "ash                             0.005208\n",
      "alcalinity_of_ash               0.026613\n",
      "magnesium                       0.019640\n",
      "total_phenols                   0.048274\n",
      "flavanoids                      0.148484\n",
      "nonflavanoid_phenols            0.005506\n",
      "proanthocyanins                 0.022899\n",
      "color_intensity                 0.169465\n",
      "hue                             0.074813\n",
      "od280/od315_of_diluted_wines    0.170230\n",
      "proline                         0.154861\n",
      "dtype: float64\n"
     ]
    }
   ],
   "source": [
    "# Wine dataset\n",
    "dataset = datasets.load_wine()\n",
    "\n",
    "tree, importance, acc = evaluate_clf(DecisionTreeClassifier(criterion ='entropy', max_depth=8), dataset)\n",
    "print(\"acc_score={}\".format(acc))\n",
    "print(importance)\n",
    "\n",
    "tree, importance, acc = evaluate_clf(RandomForestClassifier(criterion ='entropy', n_estimators=50, max_depth=8), dataset)\n",
    "print(\"acc_score={}\".format(acc))\n",
    "print(importance)"
   ]
  },
  {
   "cell_type": "code",
   "execution_count": null,
   "metadata": {},
   "outputs": [],
   "source": []
  }
 ],
 "metadata": {
  "kernelspec": {
   "display_name": "Python 3",
   "language": "python",
   "name": "python3"
  },
  "language_info": {
   "codemirror_mode": {
    "name": "ipython",
    "version": 3
   },
   "file_extension": ".py",
   "mimetype": "text/x-python",
   "name": "python",
   "nbconvert_exporter": "python",
   "pygments_lexer": "ipython3",
   "version": "3.7.3"
  },
  "varInspector": {
   "cols": {
    "lenName": 16,
    "lenType": 16,
    "lenVar": 40
   },
   "kernels_config": {
    "python": {
     "delete_cmd_postfix": "",
     "delete_cmd_prefix": "del ",
     "library": "var_list.py",
     "varRefreshCmd": "print(var_dic_list())"
    },
    "r": {
     "delete_cmd_postfix": ") ",
     "delete_cmd_prefix": "rm(",
     "library": "var_list.r",
     "varRefreshCmd": "cat(var_dic_list()) "
    }
   },
   "types_to_exclude": [
    "module",
    "function",
    "builtin_function_or_method",
    "instance",
    "_Feature"
   ],
   "window_display": false
  }
 },
 "nbformat": 4,
 "nbformat_minor": 2
}
