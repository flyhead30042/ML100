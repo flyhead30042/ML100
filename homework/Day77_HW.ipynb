{
 "cells": [
  {
   "cell_type": "markdown",
   "metadata": {},
   "source": [
    "## Work\n",
    "1. 請將 Epoch 加到 500 個，並觀察 learning curve 的走勢\n",
    "2. 請將 Optimizer 換成 SGD，並觀察 learning curve 的走勢"
   ]
  },
  {
   "cell_type": "code",
   "execution_count": 23,
   "metadata": {},
   "outputs": [],
   "source": [
    "import os\n",
    "import keras\n",
    "\n",
    "# 本作業可以不需使用 GPU, 將 GPU 設定為 \"無\" (若有 GPU 且想開啟，可設為 \"0\")\n",
    "os.environ[\"CUDA_VISIBLE_DEVICES\"] = \"\""
   ]
  },
  {
   "cell_type": "code",
   "execution_count": 24,
   "metadata": {},
   "outputs": [],
   "source": [
    "# 從 Keras 的內建功能中，取得 train 與 test 資料集\n",
    "(x_train, y_train), (x_test, y_test) = keras.datasets.cifar10.load_data()"
   ]
  },
  {
   "cell_type": "code",
   "execution_count": 25,
   "metadata": {},
   "outputs": [
    {
     "name": "stdout",
     "output_type": "stream",
     "text": [
      "(50000, 32, 32, 3)\n",
      "(10000, 32, 32, 3)\n"
     ]
    }
   ],
   "source": [
    "print(x_train.shape)\n",
    "print(x_test.shape)"
   ]
  },
  {
   "cell_type": "code",
   "execution_count": 26,
   "metadata": {},
   "outputs": [
    {
     "name": "stdout",
     "output_type": "stream",
     "text": [
      "(50000, 3072)\n",
      "(10000, 3072)\n"
     ]
    }
   ],
   "source": [
    "x_train = (x_train/255).astype(\"float32\")\n",
    "x_train = x_train.reshape(x_train.shape[0],-1)\n",
    "x_test = (x_test/255).astype(\"float32\")\n",
    "x_test = x_test.reshape(x_test.shape[0],-1)\n",
    "print(x_train.shape)\n",
    "print(x_test.shape)"
   ]
  },
  {
   "cell_type": "code",
   "execution_count": 27,
   "metadata": {},
   "outputs": [],
   "source": [
    "y_train = keras.utils.to_categorical(y_train, num_classes=10)\n",
    "y_test = keras.utils.to_categorical(y_test, num_classes=10)"
   ]
  },
  {
   "cell_type": "code",
   "execution_count": null,
   "metadata": {},
   "outputs": [],
   "source": [
    "# # 將 X 與 Y 獨立放進變數\n",
    "# x_train, y_train = train\n",
    "# x_test, y_test = test\n",
    "# # 資料前處理 - 標準化\n",
    "# x_train = x_train / 255.\n",
    "# x_test = x_test / 255.\n",
    "\n",
    "# # 將資料從圖形 (RGB) 轉為向量 (Single Vector)\n",
    "# x_train = x_train.reshape((len(x_train), -1))\n",
    "# x_test = x_test.reshape((len(x_test), -1))\n",
    "\n",
    "# # 將目標轉為 one-hot encoding\n",
    "# y_train = keras.utils.to_categorical(y_train, num_classes=10)\n",
    "# y_test = keras.utils.to_categorical(y_test, num_classes=10)"
   ]
  },
  {
   "cell_type": "code",
   "execution_count": 29,
   "metadata": {},
   "outputs": [],
   "source": [
    "\"\"\"\n",
    "立你的神經網路\n",
    "\"\"\"\n",
    "from keras.models import Sequential\n",
    "from keras.layers import Dense\n",
    "\n",
    "def build_simplemlp():\n",
    "    model = Sequential()\n",
    "    model.add(Dense(units=256, \n",
    "                input_dim=3072,\n",
    "                kernel_initializer='normal', \n",
    "                activation='relu'))\n",
    "    model.add(Dense(units=128,\n",
    "                kernel_initializer='normal', \n",
    "                activation='relu'))\n",
    "    model.add(Dense(units=10,\n",
    "                kernel_initializer='normal', \n",
    "                activation='relu'))\n",
    "    print(model.summary())\n",
    "    return model\n",
    "# model = build_simplemlp()\n",
    "# print(model.summary())"
   ]
  },
  {
   "cell_type": "code",
   "execution_count": 30,
   "metadata": {},
   "outputs": [],
   "source": [
    "\"\"\"\n",
    "Compile 模型\n",
    "\"\"\"\n",
    "\n",
    "\n",
    "def complie_train_model(model, optimizer,epochs, batch_size):\n",
    "    optimizer = keras.optimizers.Adam(lr=lr)\n",
    "    model.compile(loss=\"categorical_crossentropy\", metrics=[\"accuracy\"], optimizer=optimizer)\n",
    "    model.fit(x_train, y_train, \n",
    "          epochs= epochs, \n",
    "          batch_size=batch_size, \n",
    "          validation_data=(x_test, y_test), \n",
    "          shuffle=True)\n",
    "    return model"
   ]
  },
  {
   "cell_type": "code",
   "execution_count": null,
   "metadata": {},
   "outputs": [],
   "source": [
    "# # 以視覺畫方式檢視訓練過程\n",
    "\n",
    "# import matplotlib.pyplot as plt\n",
    "\n",
    "# train_loss = model.history.history[\"loss\"]\n",
    "# valid_loss = model.history.history[\"val_loss\"]\n",
    "\n",
    "# train_acc = model.history.history[\"acc\"]\n",
    "# valid_acc = model.history.history[\"val_acc\"]\n",
    "\n",
    "# plt.plot(range(len(train_loss)), train_loss, label=\"train loss\")\n",
    "# plt.plot(range(len(valid_loss)), valid_loss, label=\"valid loss\")\n",
    "# plt.legend()\n",
    "# plt.title(\"Loss\")\n",
    "# plt.show()\n",
    "\n",
    "# plt.plot(range(len(train_acc)), train_acc, label=\"train accuracy\")\n",
    "# plt.plot(range(len(valid_acc)), valid_acc, label=\"valid accuracy\")\n",
    "# plt.legend()\n",
    "# plt.title(\"Accuracy\")\n",
    "# plt.show()"
   ]
  },
  {
   "cell_type": "code",
   "execution_count": 53,
   "metadata": {},
   "outputs": [],
   "source": [
    "# 以視覺畫方式檢視訓練過程\n",
    "import pandas as pd\n",
    "\n",
    "def show_train_history(model):\n",
    "    df = pd.DataFrame(model.history.history)\n",
    "    \n",
    "    df1 = df[[\"acc\", \"val_acc\"]]\n",
    "    df2 = df[[\"loss\", \"val_loss\"]]    \n",
    "    \n",
    "    g1 = df1.plot.line()\n",
    "    g1.set_xlabel(\"Epoch\")\n",
    "    g1.set_ylabel(\"Acc\")\n",
    "    \n",
    "    g2 = df2.plot.line()\n",
    "    g2.set_xlabel(\"Epoch\")\n",
    "    g2.set_ylabel(\"Loss\")\n",
    "    return df"
   ]
  },
  {
   "cell_type": "code",
   "execution_count": 54,
   "metadata": {},
   "outputs": [
    {
     "name": "stdout",
     "output_type": "stream",
     "text": [
      "_________________________________________________________________\n",
      "Layer (type)                 Output Shape              Param #   \n",
      "=================================================================\n",
      "dense_31 (Dense)             (None, 256)               786688    \n",
      "_________________________________________________________________\n",
      "dense_32 (Dense)             (None, 128)               32896     \n",
      "_________________________________________________________________\n",
      "dense_33 (Dense)             (None, 10)                1290      \n",
      "=================================================================\n",
      "Total params: 820,874\n",
      "Trainable params: 820,874\n",
      "Non-trainable params: 0\n",
      "_________________________________________________________________\n",
      "None\n",
      "Train on 50000 samples, validate on 10000 samples\n",
      "Epoch 1/10\n",
      "50000/50000 [==============================] - 33s 663us/step - loss: 4.8680 - acc: 0.1482 - val_loss: 4.8060 - val_acc: 0.1402\n",
      "Epoch 2/10\n",
      "50000/50000 [==============================] - 75s 2ms/step - loss: 4.7932 - acc: 0.1684 - val_loss: 4.7778 - val_acc: 0.1877\n",
      "Epoch 3/10\n",
      "50000/50000 [==============================] - 51s 1ms/step - loss: 4.7489 - acc: 0.1902 - val_loss: 4.7248 - val_acc: 0.1887\n",
      "Epoch 4/10\n",
      "50000/50000 [==============================] - 16s 320us/step - loss: 4.7246 - acc: 0.2153 - val_loss: 4.7281 - val_acc: 0.2298\n",
      "Epoch 5/10\n",
      "50000/50000 [==============================] - 75s 2ms/step - loss: 4.7102 - acc: 0.2354 - val_loss: 4.9633 - val_acc: 0.1000\n",
      "Epoch 6/10\n",
      "50000/50000 [==============================] - 83s 2ms/step - loss: 4.8704 - acc: 0.1479 - val_loss: 4.8199 - val_acc: 0.1745\n",
      "Epoch 7/10\n",
      "50000/50000 [==============================] - 76s 2ms/step - loss: 4.7960 - acc: 0.1670 - val_loss: 4.7744 - val_acc: 0.1748\n",
      "Epoch 8/10\n",
      "50000/50000 [==============================] - 61s 1ms/step - loss: 4.7089 - acc: 0.1859 - val_loss: 3.4620 - val_acc: 0.1801\n",
      "Epoch 9/10\n",
      "50000/50000 [==============================] - 21s 429us/step - loss: 3.4360 - acc: 0.1920 - val_loss: 3.4029 - val_acc: 0.2186\n",
      "Epoch 10/10\n",
      "50000/50000 [==============================] - 19s 371us/step - loss: 3.4219 - acc: 0.2034 - val_loss: 3.4031 - val_acc: 0.2089\n"
     ]
    },
    {
     "data": {
      "image/png": "[encoded data removed]",
      "text/plain": [
       "<Figure size 432x288 with 1 Axes>"
      ]
     },
     "metadata": {
      "needs_background": "light"
     },
     "output_type": "display_data"
    },
    {
     "data": {
      "image/png": "[encoded data removed]",
      "text/plain": [
       "<Figure size 432x288 with 1 Axes>"
      ]
     },
     "metadata": {
      "needs_background": "light"
     },
     "output_type": "display_data"
    }
   ],
   "source": [
    "\"\"\"\n",
    "Main\n",
    "\"\"\"\n",
    "from keras.optimizers import Adam\n",
    "\n",
    "lr = 0.001\n",
    "epochs = 10\n",
    "batch_size = 256\n",
    "\n",
    "model = build_simplemlp()\n",
    "optimizer = Adam(lr= lr)\n",
    "model = complie_train_model(model, optimizer,epochs, batch_size)\n",
    "df = show_train_history(model)"
   ]
  },
  {
   "cell_type": "code",
   "execution_count": 55,
   "metadata": {},
   "outputs": [
    {
     "data": {
      "text/html": [
       "<div>\n",
       "<style scoped>\n",
       "    .dataframe tbody tr th:only-of-type {\n",
       "        vertical-align: middle;\n",
       "    }\n",
       "\n",
       "    .dataframe tbody tr th {\n",
       "        vertical-align: top;\n",
       "    }\n",
       "\n",
       "    .dataframe thead th {\n",
       "        text-align: right;\n",
       "    }\n",
       "</style>\n",
       "<table border=\"1\" class=\"dataframe\">\n",
       "  <thead>\n",
       "    <tr style=\"text-align: right;\">\n",
       "      <th></th>\n",
       "      <th>val_loss</th>\n",
       "      <th>val_acc</th>\n",
       "      <th>loss</th>\n",
       "      <th>acc</th>\n",
       "    </tr>\n",
       "  </thead>\n",
       "  <tbody>\n",
       "    <tr>\n",
       "      <th>0</th>\n",
       "      <td>4.805993</td>\n",
       "      <td>0.1402</td>\n",
       "      <td>4.868005</td>\n",
       "      <td>0.14818</td>\n",
       "    </tr>\n",
       "    <tr>\n",
       "      <th>1</th>\n",
       "      <td>4.777842</td>\n",
       "      <td>0.1877</td>\n",
       "      <td>4.793198</td>\n",
       "      <td>0.16838</td>\n",
       "    </tr>\n",
       "    <tr>\n",
       "      <th>2</th>\n",
       "      <td>4.724816</td>\n",
       "      <td>0.1887</td>\n",
       "      <td>4.748917</td>\n",
       "      <td>0.19016</td>\n",
       "    </tr>\n",
       "    <tr>\n",
       "      <th>3</th>\n",
       "      <td>4.728134</td>\n",
       "      <td>0.2298</td>\n",
       "      <td>4.724626</td>\n",
       "      <td>0.21528</td>\n",
       "    </tr>\n",
       "    <tr>\n",
       "      <th>4</th>\n",
       "      <td>4.963263</td>\n",
       "      <td>0.1000</td>\n",
       "      <td>4.710168</td>\n",
       "      <td>0.23538</td>\n",
       "    </tr>\n",
       "    <tr>\n",
       "      <th>5</th>\n",
       "      <td>4.819937</td>\n",
       "      <td>0.1745</td>\n",
       "      <td>4.870439</td>\n",
       "      <td>0.14790</td>\n",
       "    </tr>\n",
       "    <tr>\n",
       "      <th>6</th>\n",
       "      <td>4.774355</td>\n",
       "      <td>0.1748</td>\n",
       "      <td>4.796030</td>\n",
       "      <td>0.16702</td>\n",
       "    </tr>\n",
       "    <tr>\n",
       "      <th>7</th>\n",
       "      <td>3.461990</td>\n",
       "      <td>0.1801</td>\n",
       "      <td>4.708885</td>\n",
       "      <td>0.18590</td>\n",
       "    </tr>\n",
       "    <tr>\n",
       "      <th>8</th>\n",
       "      <td>3.402931</td>\n",
       "      <td>0.2186</td>\n",
       "      <td>3.435972</td>\n",
       "      <td>0.19196</td>\n",
       "    </tr>\n",
       "    <tr>\n",
       "      <th>9</th>\n",
       "      <td>3.403075</td>\n",
       "      <td>0.2089</td>\n",
       "      <td>3.421851</td>\n",
       "      <td>0.20342</td>\n",
       "    </tr>\n",
       "  </tbody>\n",
       "</table>\n",
       "</div>"
      ],
      "text/plain": [
       "   val_loss  val_acc      loss      acc\n",
       "0  4.805993   0.1402  4.868005  0.14818\n",
       "1  4.777842   0.1877  4.793198  0.16838\n",
       "2  4.724816   0.1887  4.748917  0.19016\n",
       "3  4.728134   0.2298  4.724626  0.21528\n",
       "4  4.963263   0.1000  4.710168  0.23538\n",
       "5  4.819937   0.1745  4.870439  0.14790\n",
       "6  4.774355   0.1748  4.796030  0.16702\n",
       "7  3.461990   0.1801  4.708885  0.18590\n",
       "8  3.402931   0.2186  3.435972  0.19196\n",
       "9  3.403075   0.2089  3.421851  0.20342"
      ]
     },
     "execution_count": 55,
     "metadata": {},
     "output_type": "execute_result"
    }
   ],
   "source": [
    "df"
   ]
  },
  {
   "cell_type": "code",
   "execution_count": 56,
   "metadata": {},
   "outputs": [
    {
     "name": "stdout",
     "output_type": "stream",
     "text": [
      "_________________________________________________________________\n",
      "Layer (type)                 Output Shape              Param #   \n",
      "=================================================================\n",
      "dense_34 (Dense)             (None, 256)               786688    \n",
      "_________________________________________________________________\n",
      "dense_35 (Dense)             (None, 128)               32896     \n",
      "_________________________________________________________________\n",
      "dense_36 (Dense)             (None, 10)                1290      \n",
      "=================================================================\n",
      "Total params: 820,874\n",
      "Trainable params: 820,874\n",
      "Non-trainable params: 0\n",
      "_________________________________________________________________\n",
      "None\n",
      "Train on 50000 samples, validate on 10000 samples\n",
      "Epoch 1/10\n",
      "50000/50000 [==============================] - 18s 370us/step - loss: 10.2187 - acc: 0.1315 - val_loss: 10.2036 - val_acc: 0.1657\n",
      "Epoch 2/10\n",
      "50000/50000 [==============================] - 15s 305us/step - loss: 8.9326 - acc: 0.1513 - val_loss: 8.7900 - val_acc: 0.1494\n",
      "Epoch 3/10\n",
      "50000/50000 [==============================] - 14s 283us/step - loss: 8.8100 - acc: 0.1698 - val_loss: 8.8338 - val_acc: 0.1711\n",
      "Epoch 4/10\n",
      "50000/50000 [==============================] - 15s 299us/step - loss: 8.8153 - acc: 0.1727 - val_loss: 8.7938 - val_acc: 0.1778\n",
      "Epoch 5/10\n",
      "50000/50000 [==============================] - 16s 316us/step - loss: 8.7862 - acc: 0.1679 - val_loss: 8.7755 - val_acc: 0.1685\n",
      "Epoch 6/10\n",
      "50000/50000 [==============================] - 15s 304us/step - loss: 8.8368 - acc: 0.1293 - val_loss: 8.8432 - val_acc: 0.1001\n",
      "Epoch 7/10\n",
      "50000/50000 [==============================] - 15s 303us/step - loss: 8.8266 - acc: 0.1451 - val_loss: 8.8053 - val_acc: 0.1644\n",
      "Epoch 8/10\n",
      "50000/50000 [==============================] - 15s 305us/step - loss: 8.7883 - acc: 0.1521 - val_loss: 8.7522 - val_acc: 0.1848\n",
      "Epoch 9/10\n",
      "50000/50000 [==============================] - 15s 304us/step - loss: 8.7417 - acc: 0.1853 - val_loss: 8.7343 - val_acc: 0.1842\n",
      "Epoch 10/10\n",
      "50000/50000 [==============================] - 16s 318us/step - loss: 8.7600 - acc: 0.1574 - val_loss: 8.7374 - val_acc: 0.1816\n"
     ]
    },
    {
     "data": {
      "image/png": "[encoded data removed]",
      "text/plain": [
       "<Figure size 432x288 with 1 Axes>"
      ]
     },
     "metadata": {
      "needs_background": "light"
     },
     "output_type": "display_data"
    },
    {
     "data": {
      "image/png": "[encoded data removed]",
      "text/plain": [
       "<Figure size 432x288 with 1 Axes>"
      ]
     },
     "metadata": {
      "needs_background": "light"
     },
     "output_type": "display_data"
    }
   ],
   "source": [
    "lr = 0.01\n",
    "epochs = 10\n",
    "batch_size = 256\n",
    "\n",
    "model = build_simplemlp()\n",
    "optimizer = Adam(lr= lr)\n",
    "model = complie_train_model(model, optimizer,epochs, batch_size)\n",
    "df = show_train_history(model)"
   ]
  },
  {
   "cell_type": "code",
   "execution_count": 57,
   "metadata": {},
   "outputs": [
    {
     "data": {
      "text/html": [
       "<div>\n",
       "<style scoped>\n",
       "    .dataframe tbody tr th:only-of-type {\n",
       "        vertical-align: middle;\n",
       "    }\n",
       "\n",
       "    .dataframe tbody tr th {\n",
       "        vertical-align: top;\n",
       "    }\n",
       "\n",
       "    .dataframe thead th {\n",
       "        text-align: right;\n",
       "    }\n",
       "</style>\n",
       "<table border=\"1\" class=\"dataframe\">\n",
       "  <thead>\n",
       "    <tr style=\"text-align: right;\">\n",
       "      <th></th>\n",
       "      <th>val_loss</th>\n",
       "      <th>val_acc</th>\n",
       "      <th>loss</th>\n",
       "      <th>acc</th>\n",
       "    </tr>\n",
       "  </thead>\n",
       "  <tbody>\n",
       "    <tr>\n",
       "      <th>0</th>\n",
       "      <td>10.203595</td>\n",
       "      <td>0.1657</td>\n",
       "      <td>10.218719</td>\n",
       "      <td>0.13146</td>\n",
       "    </tr>\n",
       "    <tr>\n",
       "      <th>1</th>\n",
       "      <td>8.789981</td>\n",
       "      <td>0.1494</td>\n",
       "      <td>8.932590</td>\n",
       "      <td>0.15128</td>\n",
       "    </tr>\n",
       "    <tr>\n",
       "      <th>2</th>\n",
       "      <td>8.833821</td>\n",
       "      <td>0.1711</td>\n",
       "      <td>8.809974</td>\n",
       "      <td>0.16982</td>\n",
       "    </tr>\n",
       "    <tr>\n",
       "      <th>3</th>\n",
       "      <td>8.793802</td>\n",
       "      <td>0.1778</td>\n",
       "      <td>8.815342</td>\n",
       "      <td>0.17274</td>\n",
       "    </tr>\n",
       "    <tr>\n",
       "      <th>4</th>\n",
       "      <td>8.775466</td>\n",
       "      <td>0.1685</td>\n",
       "      <td>8.786223</td>\n",
       "      <td>0.16788</td>\n",
       "    </tr>\n",
       "    <tr>\n",
       "      <th>5</th>\n",
       "      <td>8.843184</td>\n",
       "      <td>0.1001</td>\n",
       "      <td>8.836787</td>\n",
       "      <td>0.12930</td>\n",
       "    </tr>\n",
       "    <tr>\n",
       "      <th>6</th>\n",
       "      <td>8.805337</td>\n",
       "      <td>0.1644</td>\n",
       "      <td>8.826645</td>\n",
       "      <td>0.14508</td>\n",
       "    </tr>\n",
       "    <tr>\n",
       "      <th>7</th>\n",
       "      <td>8.752243</td>\n",
       "      <td>0.1848</td>\n",
       "      <td>8.788251</td>\n",
       "      <td>0.15214</td>\n",
       "    </tr>\n",
       "    <tr>\n",
       "      <th>8</th>\n",
       "      <td>8.734317</td>\n",
       "      <td>0.1842</td>\n",
       "      <td>8.741659</td>\n",
       "      <td>0.18534</td>\n",
       "    </tr>\n",
       "    <tr>\n",
       "      <th>9</th>\n",
       "      <td>8.737375</td>\n",
       "      <td>0.1816</td>\n",
       "      <td>8.759950</td>\n",
       "      <td>0.15736</td>\n",
       "    </tr>\n",
       "  </tbody>\n",
       "</table>\n",
       "</div>"
      ],
      "text/plain": [
       "    val_loss  val_acc       loss      acc\n",
       "0  10.203595   0.1657  10.218719  0.13146\n",
       "1   8.789981   0.1494   8.932590  0.15128\n",
       "2   8.833821   0.1711   8.809974  0.16982\n",
       "3   8.793802   0.1778   8.815342  0.17274\n",
       "4   8.775466   0.1685   8.786223  0.16788\n",
       "5   8.843184   0.1001   8.836787  0.12930\n",
       "6   8.805337   0.1644   8.826645  0.14508\n",
       "7   8.752243   0.1848   8.788251  0.15214\n",
       "8   8.734317   0.1842   8.741659  0.18534\n",
       "9   8.737375   0.1816   8.759950  0.15736"
      ]
     },
     "execution_count": 57,
     "metadata": {},
     "output_type": "execute_result"
    }
   ],
   "source": [
    "df"
   ]
  },
  {
   "cell_type": "code",
   "execution_count": null,
   "metadata": {},
   "outputs": [],
   "source": []
  }
 ],
 "metadata": {
  "kernelspec": {
   "display_name": "Python 3",
   "language": "python",
   "name": "python3"
  },
  "language_info": {
   "codemirror_mode": {
    "name": "ipython",
    "version": 3
   },
   "file_extension": ".py",
   "mimetype": "text/x-python",
   "name": "python",
   "nbconvert_exporter": "python",
   "pygments_lexer": "ipython3",
   "version": "3.7.3"
  }
 },
 "nbformat": 4,
 "nbformat_minor": 2
}
