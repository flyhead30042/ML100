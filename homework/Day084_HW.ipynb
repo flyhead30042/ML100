{
 "cells": [
  {
   "cell_type": "markdown",
   "metadata": {},
   "source": [
    "## Work\n",
    "### 請結合前面的知識與程式碼，比較不同的 regularization 的組合對訓練的結果與影響：如 dropout, regularizers, batch-normalization 等"
   ]
  },
  {
   "cell_type": "code",
   "execution_count": 5,
   "metadata": {},
   "outputs": [
    {
     "name": "stderr",
     "output_type": "stream",
     "text": [
      "Using TensorFlow backend.\n"
     ]
    }
   ],
   "source": [
    "import os\n",
    "import keras\n",
    "import itertools\n",
    "# Disable GPU\n",
    "os.environ[\"CUDA_VISIBLE_DEVICES\"] = \"\""
   ]
  },
  {
   "cell_type": "code",
   "execution_count": 6,
   "metadata": {},
   "outputs": [],
   "source": [
    "train, test = keras.datasets.cifar10.load_data()"
   ]
  },
  {
   "cell_type": "code",
   "execution_count": 7,
   "metadata": {},
   "outputs": [],
   "source": [
    "## 資料前處理\n",
    "from sklearn.preprocessing import StandardScaler, MinMaxScaler\n",
    "\n",
    "scaler = StandardScaler()\n",
    "def preproc_x(x):\n",
    "    x = x.astype(\"float32\")\n",
    "    x = x.reshape(x.shape[0],-1)\n",
    "    x = scaler.fit_transform(x)\n",
    "    return x\n",
    "\n",
    "def preproc_y(y):\n",
    "    y = keras.utils.to_categorical(y, num_classes=10)\n",
    "    return y   "
   ]
  },
  {
   "cell_type": "code",
   "execution_count": 8,
   "metadata": {},
   "outputs": [],
   "source": [
    "x_train, y_train = train\n",
    "x_test, y_test = test\n",
    "\n",
    "# Preproc the inputs\n",
    "x_train = preproc_x(x_train)\n",
    "x_test = preproc_x(x_test)\n",
    "\n",
    "# Preprc the outputs\n",
    "y_train = preproc_y(y_train)\n",
    "y_test = preproc_y(y_test)"
   ]
  },
  {
   "cell_type": "code",
   "execution_count": 9,
   "metadata": {},
   "outputs": [],
   "source": [
    "\"\"\"\n",
    "建立你的神經網路\n",
    "\"\"\"\n",
    "from keras.models import Sequential\n",
    "from keras.layers import Dense, Dropout, BatchNormalization\n",
    "\n",
    "def build_mlp(input_dim, layer_output_units, output_units, regularizer=None, dropout_ratio=None, isBN=False):\n",
    "    model = Sequential()\n",
    "    for i, untis in enumerate(layer_output_units):  \n",
    "        if i == 0:\n",
    "            model.add(Dense(units=untis, \n",
    "                            input_dim=input_dim,\n",
    "                            kernel_initializer='normal',\n",
    "                            kernel_regularizer=regularizer, \n",
    "                            activation='relu'))\n",
    "            if isBN:\n",
    "                model.add(BatchNormalization())\n",
    "        else:\n",
    "            model.add(Dense(units=untis,\n",
    "                            kernel_initializer='normal',\n",
    "                            kernel_regularizer=regularizer, \n",
    "                            activation='relu'))\n",
    "            if isBN:\n",
    "                model.add(BatchNormalization())\n",
    "\n",
    "    if dropout_ratio:\n",
    "        model.add(Dropout(dropout_ratio))\n",
    "        \n",
    "    model.add(Dense(units=output_units,\n",
    "                kernel_initializer='normal', \n",
    "                activation='softmax'))\n",
    "    return model  "
   ]
  },
  {
   "cell_type": "code",
   "execution_count": 24,
   "metadata": {},
   "outputs": [],
   "source": [
    "\"\"\"\n",
    "訓練模型\n",
    "\"\"\"\n",
    "def complie_train_model(model, optimizer, epochs, batch_size, x_train, y_train, x_test, y_test):\n",
    "    model.compile(loss=\"categorical_crossentropy\", metrics=[\"accuracy\"], optimizer= optimizer)\n",
    "    model.fit(x_train, y_train, \n",
    "          epochs= epochs, \n",
    "          batch_size=batch_size, \n",
    "          validation_data=(x_test, y_test), \n",
    "          shuffle=True)\n",
    "    return model"
   ]
  },
  {
   "cell_type": "code",
   "execution_count": 11,
   "metadata": {},
   "outputs": [],
   "source": [
    "\"\"\"\n",
    "以視覺畫方式檢視訓練過程\n",
    "\"\"\"\n",
    "import pandas as pd\n",
    "import seaborn as sns\n",
    "import matplotlib.pyplot as plt\n",
    "\n",
    "def show_train_history(results):\n",
    "    for i, result in enumerate(results):\n",
    "        history = result[\"model\"].history.history\n",
    "        tag = \"({})\".format(result[\"tag\"])\n",
    "        df_acc = pd.DataFrame({\"acc\"+tag:history[\"acc\"], \"val_acc\"+tag:history[\"val_acc\"]})\n",
    "        df_loss = pd.DataFrame({\"loss\"+tag:history[\"loss\"], \"val_loss\"+tag:history[\"val_loss\"]})\n",
    "        if i ==0:\n",
    "            df_acc_results = df_acc.copy()\n",
    "            df_loss_results = df_loss.copy()\n",
    "        else:\n",
    "            df_acc_results= pd.concat([df_acc_results, df_acc], axis=1)\n",
    "            df_loss_results= pd.concat([df_loss_results, df_loss], axis=1)    \n",
    "\n",
    "    fig, ax = plt.subplots(1,2, figsize=(18,5))\n",
    "    styles = ['bs-','ro-','y^-', 'g--']    \n",
    "    g1 = df_acc_results.plot.line(style=styles, ax =ax[0])\n",
    "    g1.set_xlabel(\"Epoch\")\n",
    "    g1.set_ylabel(\"Acc\") \n",
    "    \n",
    "    g2 = df_loss_results.plot.line(style=styles, ax =ax[1])\n",
    "    g2.set_xlabel(\"Epoch\")\n",
    "    g2.set_ylabel(\"Loss\") \n",
    "    return df_acc_results, df_loss_results"
   ]
  },
  {
   "cell_type": "code",
   "execution_count": 36,
   "metadata": {},
   "outputs": [],
   "source": [
    "\"\"\"\n",
    "設定超參數\n",
    "\"\"\"\n",
    "HYPER_PARAMS= [\n",
    "{\"EPOCHS\": 10,\n",
    "\"BATCH_SIZE\": 256,\n",
    "\"L2_EXP\" :None,\n",
    "\"OPTIMIZER\":\"ADAM\",\n",
    "\"LEARNING_RATE\": 1e-3,\n",
    "\"DROPOUT_EXP\": None,\n",
    "\"ISBN\": False},\n",
    "\n",
    "{\"EPOCHS\": 10,\n",
    "\"BATCH_SIZE\": 256,\n",
    "\"L2_EXP\" :1e-3,\n",
    "\"OPTIMIZER\": \"SGD\",\n",
    "\"LEARNING_RATE\": 1e-3,\n",
    "\"MOMENTUM\": 0.95,\n",
    "\"DROPOUT_EXP\": None,\n",
    "\"ISBN\": True},\n",
    "    \n",
    "{\"EPOCHS\": 10,\n",
    "\"BATCH_SIZE\": 256,\n",
    "\"L1L2_EXP\" :1e-3,\n",
    "\"OPTIMIZER\":\"ADAM\",\n",
    "\"LEARNING_RATE\": 1e-3,\n",
    "\"MOMENTUM\": None,\n",
    "\"DROPOUT_EXP\": 0.25,\n",
    "\"ISBN\": True}]"
   ]
  },
  {
   "cell_type": "code",
   "execution_count": 37,
   "metadata": {
    "scrolled": true
   },
   "outputs": [
    {
     "name": "stdout",
     "output_type": "stream",
     "text": [
      "the 0 paramset {'EPOCHS': 10, 'BATCH_SIZE': 256, 'L2_EXP': None, 'OPTIMIZER': 'ADAM', 'LEARNING_RATE': 0.001, 'DROPOUT_EXP': None, 'ISBN': False}\n",
      "Train on 50000 samples, validate on 10000 samples\n",
      "Epoch 1/10\n",
      "50000/50000 [==============================] - 18s 370us/step - loss: nan - acc: 0.0999 - val_loss: nan - val_acc: 0.1000\n",
      "Epoch 2/10\n",
      "50000/50000 [==============================] - 16s 317us/step - loss: nan - acc: 0.1000 - val_loss: nan - val_acc: 0.1000\n",
      "Epoch 3/10\n",
      "50000/50000 [==============================] - 16s 325us/step - loss: nan - acc: 0.1000 - val_loss: nan - val_acc: 0.1000\n",
      "Epoch 4/10\n",
      "50000/50000 [==============================] - 16s 319us/step - loss: nan - acc: 0.1000 - val_loss: nan - val_acc: 0.1000\n",
      "Epoch 5/10\n",
      "50000/50000 [==============================] - 16s 321us/step - loss: nan - acc: 0.1000 - val_loss: nan - val_acc: 0.1000\n",
      "Epoch 6/10\n",
      "50000/50000 [==============================] - 16s 328us/step - loss: nan - acc: 0.1000 - val_loss: nan - val_acc: 0.1000\n",
      "Epoch 7/10\n",
      "50000/50000 [==============================] - 17s 335us/step - loss: nan - acc: 0.1000 - val_loss: nan - val_acc: 0.1000\n",
      "Epoch 8/10\n",
      "50000/50000 [==============================] - 16s 327us/step - loss: nan - acc: 0.1000 - val_loss: nan - val_acc: 0.1000\n",
      "Epoch 9/10\n",
      "50000/50000 [==============================] - 17s 331us/step - loss: nan - acc: 0.1000 - val_loss: nan - val_acc: 0.1000\n",
      "Epoch 10/10\n",
      "50000/50000 [==============================] - 17s 334us/step - loss: nan - acc: 0.1000 - val_loss: nan - val_acc: 0.1000\n",
      "the 1 paramset {'EPOCHS': 10, 'BATCH_SIZE': 256, 'L2_EXP': 0.001, 'OPTIMIZER': 'SGD', 'LEARNING_RATE': 0.001, 'MOMENTUM': 0.95, 'DROPOUT_EXP': None, 'ISBN': True}\n",
      "Train on 50000 samples, validate on 10000 samples\n",
      "Epoch 1/10\n",
      "50000/50000 [==============================] - 23s 469us/step - loss: 3.9694 - acc: 0.3094 - val_loss: 3.7694 - val_acc: 0.3785\n",
      "Epoch 2/10\n",
      "50000/50000 [==============================] - 17s 342us/step - loss: 3.6929 - acc: 0.4043 - val_loss: 3.6293 - val_acc: 0.4212\n",
      "Epoch 3/10\n",
      "50000/50000 [==============================] - 17s 341us/step - loss: 3.5675 - acc: 0.4363 - val_loss: 3.5340 - val_acc: 0.4429\n",
      "Epoch 4/10\n",
      "50000/50000 [==============================] - 18s 355us/step - loss: 3.4695 - acc: 0.4616 - val_loss: 3.4594 - val_acc: 0.4564\n",
      "Epoch 5/10\n",
      "50000/50000 [==============================] - 18s 358us/step - loss: 3.3880 - acc: 0.4807 - val_loss: 3.3957 - val_acc: 0.4690\n",
      "Epoch 6/10\n",
      "50000/50000 [==============================] - 18s 368us/step - loss: 3.3142 - acc: 0.4967 - val_loss: 3.3444 - val_acc: 0.4744\n",
      "Epoch 7/10\n",
      "50000/50000 [==============================] - 19s 383us/step - loss: 3.2473 - acc: 0.5092 - val_loss: 3.2920 - val_acc: 0.4868\n",
      "Epoch 8/10\n",
      "50000/50000 [==============================] - 20s 395us/step - loss: 3.1801 - acc: 0.5234 - val_loss: 3.2465 - val_acc: 0.4902\n",
      "Epoch 9/10\n",
      "50000/50000 [==============================] - 20s 395us/step - loss: 3.1209 - acc: 0.5341 - val_loss: 3.2055 - val_acc: 0.4923\n",
      "Epoch 10/10\n",
      "50000/50000 [==============================] - 20s 394us/step - loss: 3.0595 - acc: 0.5455 - val_loss: 3.1655 - val_acc: 0.4995\n",
      "the 2 paramset {'EPOCHS': 10, 'BATCH_SIZE': 256, 'L1L2_EXP': 0.001, 'OPTIMIZER': 'ADAM', 'LEARNING_RATE': 0.001, 'MOMENTUM': None, 'DROPOUT_EXP': 0.25, 'ISBN': True}\n",
      "Train on 50000 samples, validate on 10000 samples\n",
      "Epoch 1/10\n",
      "50000/50000 [==============================] - 30s 595us/step - loss: 11.2981 - acc: 0.3750 - val_loss: 3.6158 - val_acc: 0.3859\n",
      "Epoch 2/10\n",
      "50000/50000 [==============================] - 22s 439us/step - loss: 3.0801 - acc: 0.3904 - val_loss: 2.8555 - val_acc: 0.4055\n",
      "Epoch 3/10\n",
      "50000/50000 [==============================] - 22s 435us/step - loss: 2.7031 - acc: 0.4102 - val_loss: 2.5836 - val_acc: 0.4169\n",
      "Epoch 4/10\n",
      "50000/50000 [==============================] - 22s 438us/step - loss: 2.5478 - acc: 0.4245 - val_loss: 2.4712 - val_acc: 0.4458\n",
      "Epoch 5/10\n",
      "50000/50000 [==============================] - 22s 441us/step - loss: 2.4781 - acc: 0.4313 - val_loss: 2.4718 - val_acc: 0.4224\n",
      "Epoch 6/10\n",
      "50000/50000 [==============================] - 22s 443us/step - loss: 2.4466 - acc: 0.4360 - val_loss: 2.4448 - val_acc: 0.4424\n",
      "Epoch 7/10\n",
      "50000/50000 [==============================] - 22s 449us/step - loss: 2.4211 - acc: 0.4430 - val_loss: 2.3888 - val_acc: 0.4464\n",
      "Epoch 8/10\n",
      "50000/50000 [==============================] - 22s 444us/step - loss: 2.3986 - acc: 0.4449 - val_loss: 2.3717 - val_acc: 0.4432\n",
      "Epoch 9/10\n",
      "50000/50000 [==============================] - 22s 448us/step - loss: 2.3795 - acc: 0.4505 - val_loss: 2.3662 - val_acc: 0.4536\n",
      "Epoch 10/10\n",
      "50000/50000 [==============================] - 22s 445us/step - loss: 2.3670 - acc: 0.4513 - val_loss: 2.3469 - val_acc: 0.4587\n"
     ]
    }
   ],
   "source": [
    "\"\"\"\n",
    "撰寫你的訓練流程並將結果用 dictionary 紀錄\n",
    "\"\"\"\n",
    "results = list()\n",
    "\n",
    "keras.backend.clear_session() # 把舊的 Graph 清掉\n",
    "\n",
    "for i, params in enumerate(HYPER_PARAMS):\n",
    "    print(\"the {} paramset {}\".format(i, params))\n",
    "    if \"L1L2_EXP\" in params:\n",
    "        regularizer = keras.regularizers.l1_l2(l1=params[\"L1L2_EXP\"], l2=params[\"L1L2_EXP\"])\n",
    "    elif \"L2_EXP\" in params:\n",
    "        regularizer = keras.regularizers.l2(params[\"L2_EXP\"])\n",
    "    else:\n",
    "        regularizer = None\n",
    "    model = build_mlp(input_dim=x_train.shape[1], layer_output_units=[256,128], output_units=10, regularizer=regularizer, dropout_ratio=params[\"DROPOUT_EXP\"], isBN=params[\"ISBN\"])\n",
    "\n",
    "    if \"OPTIMIZER\" in params and params[\"OPTIMIZER\"] == \"SGD\":\n",
    "        optimizer =  keras.optimizers.SGD(lr=params[\"LEARNING_RATE\"], nesterov=True, momentum=params[\"MOMENTUM\"])\n",
    "    elif \"OPTIMIZER\" in params and params[\"OPTIMIZER\"] == \"ADAM\":\n",
    "        optimizer =  keras.optimizers.Adam(lr=params[\"LEARNING_RATE\"])\n",
    "    else:\n",
    "        optimizer = None        \n",
    "    model = complie_train_model(model, optimizer,params[\"EPOCHS\"] , params[\"BATCH_SIZE\"], x_train, y_train, x_test, y_test)\n",
    "    \n",
    "    results.append({\"tag\":i, \"model\":model})"
   ]
  },
  {
   "cell_type": "code",
   "execution_count": 38,
   "metadata": {},
   "outputs": [
    {
     "data": {
      "image/png": "[encoded data removed]",
      "text/plain": [
       "<Figure size 1296x360 with 2 Axes>"
      ]
     },
     "metadata": {
      "needs_background": "light"
     },
     "output_type": "display_data"
    }
   ],
   "source": [
    "\"\"\"\n",
    "將結果繪出\n",
    "\"\"\"\n",
    "\n",
    "import matplotlib.pyplot as plt\n",
    "%matplotlib inline\n",
    "\n",
    "df_acc_results, df_loss_results = show_train_history(results)"
   ]
  },
  {
   "cell_type": "code",
   "execution_count": null,
   "metadata": {},
   "outputs": [],
   "source": []
  }
 ],
 "metadata": {
  "kernelspec": {
   "display_name": "Python 3",
   "language": "python",
   "name": "python3"
  },
  "language_info": {
   "codemirror_mode": {
    "name": "ipython",
    "version": 3
   },
   "file_extension": ".py",
   "mimetype": "text/x-python",
   "name": "python",
   "nbconvert_exporter": "python",
   "pygments_lexer": "ipython3",
   "version": "3.7.3"
  }
 },
 "nbformat": 4,
 "nbformat_minor": 2
}
