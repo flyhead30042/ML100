{
 "cells": [
  {
   "cell_type": "markdown",
   "metadata": {},
   "source": [
    "## 練習時間\n",
    "在小量的資料上，我們用眼睛就可以看得出來程式碼是否有跑出我們理想中的結果\n",
    "\n",
    "請嘗試想像一個你需要的資料結構 (裡面的值可以是隨機的)，然後用上述的方法把它變成 pandas DataFrame\n",
    "\n",
    "#### Ex: 想像一個 dataframe 有兩個欄位，一個是國家，一個是人口，求人口數最多的國家\n",
    "\n",
    "### Hints: [隨機產生數值](https://blog.csdn.net/christianashannon/article/details/78867204)"
   ]
  },
  {
   "cell_type": "code",
   "execution_count": 30,
   "metadata": {},
   "outputs": [],
   "source": [
    "%config IPCompleter.greedy=True\n",
    "import pandas as pd\n",
    "import numpy as np\n",
    "import random\n",
    "import string"
   ]
  },
  {
   "cell_type": "code",
   "execution_count": 40,
   "metadata": {},
   "outputs": [
    {
     "name": "stdout",
     "output_type": "stream",
     "text": [
      "         國家       人口\n",
      "0     UJEEB  5333870\n",
      "1   BQNXWAA   619096\n",
      "2   QLQGIIF  9959877\n",
      "3  UPGLLMMK  3457886\n",
      "4    JWLGFS  6551564\n",
      "5   CJQXBCU  1310250\n",
      "6  JGNFMCYW  1293460\n",
      "7     MSTFB   328633\n",
      "8  KQLCGAXE  9581169\n",
      "9    NSCEBA  8583694\n",
      "        國家       人口\n",
      "2  QLQGIIF  9959877\n"
     ]
    }
   ],
   "source": [
    "# Create 10 random country names\n",
    "data_c =[''.join(random.choices(string.ascii_uppercase, k= random.randint(4, 10))) for _ in range(10)]        \n",
    "# Crreate 10 polulation with range 10M\n",
    "data_p = np.random.randint(10000000,size=10)\n",
    "\n",
    "data = {'國家': data_c ,\n",
    "        '人口': data_p}\n",
    "         \n",
    "df = pd.DataFrame(data)\n",
    "print(df)\n",
    "\n",
    "# Select the country with polulation is equal to max polulation\n",
    "df2 = df[df[\"人口\"] == df[\"人口\"].max()]\n",
    "print(df2)\n"
   ]
  },
  {
   "cell_type": "code",
   "execution_count": null,
   "metadata": {},
   "outputs": [],
   "source": []
  }
 ],
 "metadata": {
  "kernelspec": {
   "display_name": "Python 3",
   "language": "python",
   "name": "python3"
  },
  "language_info": {
   "codemirror_mode": {
    "name": "ipython",
    "version": 3
   },
   "file_extension": ".py",
   "mimetype": "text/x-python",
   "name": "python",
   "nbconvert_exporter": "python",
   "pygments_lexer": "ipython3",
   "version": "3.7.3"
  }
 },
 "nbformat": 4,
 "nbformat_minor": 2
}
