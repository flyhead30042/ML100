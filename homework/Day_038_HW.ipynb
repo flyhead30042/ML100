{
 "cells": [
  {
   "cell_type": "markdown",
   "metadata": {},
   "source": [
    "## [作業重點]\n",
    "使用 Sklearn 中的線性迴歸模型，來訓練各種資料集，務必了解送進去模型訓練的**資料型態**為何，也請了解模型中各項參數的意義"
   ]
  },
  {
   "cell_type": "markdown",
   "metadata": {},
   "source": [
    "## 作業\n",
    "試著使用 sklearn datasets 的其他資料集 (wine, boston, ...)，來訓練自己的線性迴歸模型。"
   ]
  },
  {
   "cell_type": "markdown",
   "metadata": {},
   "source": [
    "### HINT: 注意 label 的型態，確定資料集的目標是分類還是回歸，在使用正確的模型訓練！"
   ]
  },
  {
   "cell_type": "code",
   "execution_count": 1,
   "metadata": {},
   "outputs": [],
   "source": [
    "import numpy as np\n",
    "import pandas as pd\n",
    "import matplotlib.pyplot as plt\n",
    "from sklearn import datasets, linear_model\n",
    "from sklearn.model_selection import train_test_split\n",
    "from sklearn.metrics import mean_squared_error, r2_score, accuracy_score\n",
    "from sklearn.preprocessing import MinMaxScaler, LabelEncoder\n",
    "\n",
    "\n",
    "import warnings\n",
    "warnings.filterwarnings(action='ignore')"
   ]
  },
  {
   "cell_type": "code",
   "execution_count": 2,
   "metadata": {},
   "outputs": [],
   "source": [
    "def linear_regression(X, y, feature_name):\n",
    "    lr = linear_model.LinearRegression()\n",
    "    X_train, X_test, y_train, y_test = train_test_split(X,y ,test_size=0.25)\n",
    "    lr.fit(X_train,y_train)\n",
    "    y_pred = lr.predict(X_test)\n",
    "    mse = mean_squared_error(y_test,y_pred)\n",
    "    print(\"Feature({})'s MSE = {}\".format(feature_name, mse))\n",
    "    \n",
    "#     plt.scatter(X_test, y_test,  color='black')\n",
    "#     plt.plot(X_test, y_pred, color='blue', linewidth=3)\n",
    "#     plt.show()"
   ]
  },
  {
   "cell_type": "code",
   "execution_count": 3,
   "metadata": {},
   "outputs": [],
   "source": [
    "def linear_regression_dataset(dataset):\n",
    "    y = dataset['target']   \n",
    "    for i, col  in enumerate(dataset['feature_names']):\n",
    "        X= dataset['data'][:,i].reshape(-1,1)  \n",
    "        linear_regression(X, y,col )"
   ]
  },
  {
   "cell_type": "code",
   "execution_count": 4,
   "metadata": {
    "scrolled": true
   },
   "outputs": [
    {
     "name": "stdout",
     "output_type": "stream",
     "text": [
      "Feature(sepal length (cm))'s MSE = 0.2611793766278086\n",
      "Feature(sepal width (cm))'s MSE = 0.6163194927910955\n",
      "Feature(petal length (cm))'s MSE = 0.08818600733391584\n",
      "Feature(petal width (cm))'s MSE = 0.06808618702861817\n"
     ]
    }
   ],
   "source": [
    "# Iris dataset\n",
    "linear_regression_dataset(datasets.load_iris())"
   ]
  },
  {
   "cell_type": "code",
   "execution_count": 5,
   "metadata": {},
   "outputs": [
    {
     "name": "stdout",
     "output_type": "stream",
     "text": [
      "Feature(alcohol)'s MSE = 0.5497510086216122\n",
      "Feature(malic_acid)'s MSE = 0.48237752949076695\n",
      "Feature(ash)'s MSE = 0.5501674926583755\n",
      "Feature(alcalinity_of_ash)'s MSE = 0.33866815681938156\n",
      "Feature(magnesium)'s MSE = 0.5741710226662907\n",
      "Feature(total_phenols)'s MSE = 0.24440437785760408\n",
      "Feature(flavanoids)'s MSE = 0.15538229492967143\n",
      "Feature(nonflavanoid_phenols)'s MSE = 0.49553422405435826\n",
      "Feature(proanthocyanins)'s MSE = 0.629452523852481\n",
      "Feature(color_intensity)'s MSE = 0.6070329375477855\n",
      "Feature(hue)'s MSE = 0.3131666299870898\n",
      "Feature(od280/od315_of_diluted_wines)'s MSE = 0.2320735823586739\n",
      "Feature(proline)'s MSE = 0.3514605757396281\n"
     ]
    }
   ],
   "source": [
    "# Wine dataset\n",
    "linear_regression_dataset(datasets.load_wine())"
   ]
  },
  {
   "cell_type": "code",
   "execution_count": 8,
   "metadata": {
    "scrolled": true
   },
   "outputs": [
    {
     "name": "stdout",
     "output_type": "stream",
     "text": [
      "Feature(CRIM)'s MSE = 70.60949754815445\n",
      "Feature(ZN)'s MSE = 81.33626444584468\n",
      "Feature(INDUS)'s MSE = 66.76775514221767\n",
      "Feature(CHAS)'s MSE = 87.91189346283555\n",
      "Feature(NOX)'s MSE = 77.30027290762206\n",
      "Feature(RM)'s MSE = 37.86355618892622\n",
      "Feature(AGE)'s MSE = 69.48341128413549\n",
      "Feature(DIS)'s MSE = 86.06919858065737\n",
      "Feature(RAD)'s MSE = 73.37520393860412\n",
      "Feature(TAX)'s MSE = 68.7580569562007\n",
      "Feature(PTRATIO)'s MSE = 61.33118703989507\n",
      "Feature(B)'s MSE = 60.036332158574815\n",
      "Feature(LSTAT)'s MSE = 48.44781345482666\n"
     ]
    }
   ],
   "source": [
    "\n",
    "# boston dataset\n",
    "linear_regression_dataset(datasets.load_boston())"
   ]
  },
  {
   "cell_type": "code",
   "execution_count": 7,
   "metadata": {
    "scrolled": false
   },
   "outputs": [
    {
     "name": "stdout",
     "output_type": "stream",
     "text": [
      "Feature(mean radius)'s MSE = 0.10912157027224138\n",
      "Feature(mean texture)'s MSE = 0.17804942713192565\n",
      "Feature(mean perimeter)'s MSE = 0.11264839717990176\n",
      "Feature(mean area)'s MSE = 0.10492252547367155\n",
      "Feature(mean smoothness)'s MSE = 0.1863727685971353\n",
      "Feature(mean compactness)'s MSE = 0.15204295112520885\n",
      "Feature(mean concavity)'s MSE = 0.12074156092415761\n",
      "Feature(mean concave points)'s MSE = 0.09775263914067372\n",
      "Feature(mean symmetry)'s MSE = 0.20151460782313496\n",
      "Feature(mean fractal dimension)'s MSE = 0.2352482781302648\n",
      "Feature(radius error)'s MSE = 0.1651033672106072\n",
      "Feature(texture error)'s MSE = 0.23467101455171338\n",
      "Feature(perimeter error)'s MSE = 0.1644290442767685\n",
      "Feature(area error)'s MSE = 0.16162869016344394\n",
      "Feature(smoothness error)'s MSE = 0.23719181993300065\n",
      "Feature(compactness error)'s MSE = 0.2164225809407905\n",
      "Feature(concavity error)'s MSE = 0.2162657214369466\n",
      "Feature(concave points error)'s MSE = 0.20491908122116304\n",
      "Feature(symmetry error)'s MSE = 0.24098518866059906\n",
      "Feature(fractal dimension error)'s MSE = 0.2224997218594256\n",
      "Feature(worst radius)'s MSE = 0.08503948317199295\n",
      "Feature(worst texture)'s MSE = 0.2078229150007859\n",
      "Feature(worst perimeter)'s MSE = 0.0788984313232781\n",
      "Feature(worst area)'s MSE = 0.13904869748986448\n",
      "Feature(worst smoothness)'s MSE = 0.1842802644983786\n",
      "Feature(worst compactness)'s MSE = 0.16203635723500057\n",
      "Feature(worst concavity)'s MSE = 0.11329151835054778\n",
      "Feature(worst concave points)'s MSE = 0.08364631318319089\n",
      "Feature(worst symmetry)'s MSE = 0.20054463874950998\n",
      "Feature(worst fractal dimension)'s MSE = 0.2204223215824794\n"
     ]
    }
   ],
   "source": [
    "# breast_cancer dataset\n",
    "linear_regression_dataset(datasets.load_breast_cancer())\n"
   ]
  },
  {
   "cell_type": "code",
   "execution_count": 49,
   "metadata": {},
   "outputs": [],
   "source": [
    "def logistic_regression_dataset(X, y):\n",
    "    lr = linear_model.LogisticRegression()\n",
    "    X_train, X_test, y_train, y_test = train_test_split(X,y ,test_size=0.25)\n",
    "    lr.fit(X_train,y_train)\n",
    "    y_pred = lr.predict(X_test)\n",
    "    r2 = r2_score(y_pred, y_test)\n",
    "    print(\"R2 Score = {}\".format(r2)) \n",
    "    \n",
    "    acc = accuracy_score(y_test, y_pred)\n",
    "    print(\"Accuracy Score = {}\".format(acc))  "
   ]
  },
  {
   "cell_type": "code",
   "execution_count": 50,
   "metadata": {
    "scrolled": true
   },
   "outputs": [
    {
     "name": "stdout",
     "output_type": "stream",
     "text": [
      "R2 Score = 0.9600840336134454\n",
      "Accuracy Score = 0.9736842105263158\n"
     ]
    }
   ],
   "source": [
    "# Iris dataset\n",
    "dataset = datasets.load_iris()\n",
    "logistic_regression_dataset(dataset['data'], dataset['target'])"
   ]
  },
  {
   "cell_type": "code",
   "execution_count": 57,
   "metadata": {
    "scrolled": false
   },
   "outputs": [
    {
     "name": "stdout",
     "output_type": "stream",
     "text": [
      "R2 Score = 0.9675324675324676\n",
      "Accuracy Score = 0.9777777777777777\n"
     ]
    }
   ],
   "source": [
    "# Wine dataset\n",
    "dataset = datasets.load_wine()\n",
    "logistic_regression_dataset(dataset['data'], dataset['target'])"
   ]
  },
  {
   "cell_type": "code",
   "execution_count": 68,
   "metadata": {
    "scrolled": true
   },
   "outputs": [
    {
     "name": "stdout",
     "output_type": "stream",
     "text": [
      "R2 Score = 0.617061724269157\n",
      "Accuracy Score = 0.03937007874015748\n"
     ]
    }
   ],
   "source": [
    "# boston dataset\n",
    "dataset = datasets.load_boston()\n",
    "le = LabelEncoder()\n",
    "target = le.fit_transform(dataset['target'])  # target type is continue, discrete in Label encoder\n",
    "logistic_regression_dataset(dataset['data'],target)"
   ]
  },
  {
   "cell_type": "code",
   "execution_count": 38,
   "metadata": {
    "scrolled": false
   },
   "outputs": [
    {
     "name": "stdout",
     "output_type": "stream",
     "text": [
      "R2 Score = 0.7516283108988276\n",
      "Accuracy Score = 0.9440559440559441\n"
     ]
    }
   ],
   "source": [
    "# breast_cancer dataset\n",
    "logistic_regression_dataset(datasets.load_breast_cancer())"
   ]
  },
  {
   "cell_type": "code",
   "execution_count": null,
   "metadata": {},
   "outputs": [],
   "source": []
  }
 ],
 "metadata": {
  "kernelspec": {
   "display_name": "Python 3",
   "language": "python",
   "name": "python3"
  },
  "language_info": {
   "codemirror_mode": {
    "name": "ipython",
    "version": 3
   },
   "file_extension": ".py",
   "mimetype": "text/x-python",
   "name": "python",
   "nbconvert_exporter": "python",
   "pygments_lexer": "ipython3",
   "version": "3.7.3"
  },
  "varInspector": {
   "cols": {
    "lenName": 16,
    "lenType": 16,
    "lenVar": 40
   },
   "kernels_config": {
    "python": {
     "delete_cmd_postfix": "",
     "delete_cmd_prefix": "del ",
     "library": "var_list.py",
     "varRefreshCmd": "print(var_dic_list())"
    },
    "r": {
     "delete_cmd_postfix": ") ",
     "delete_cmd_prefix": "rm(",
     "library": "var_list.r",
     "varRefreshCmd": "cat(var_dic_list()) "
    }
   },
   "types_to_exclude": [
    "module",
    "function",
    "builtin_function_or_method",
    "instance",
    "_Feature"
   ],
   "window_display": false
  }
 },
 "nbformat": 4,
 "nbformat_minor": 2
}
