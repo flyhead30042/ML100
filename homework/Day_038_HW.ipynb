{
 "cells": [
  {
   "cell_type": "markdown",
   "metadata": {},
   "source": [
    "## [作業重點]\n",
    "使用 Sklearn 中的線性迴歸模型，來訓練各種資料集，務必了解送進去模型訓練的**資料型態**為何，也請了解模型中各項參數的意義"
   ]
  },
  {
   "cell_type": "markdown",
   "metadata": {},
   "source": [
    "## 作業\n",
    "試著使用 sklearn datasets 的其他資料集 (wine, boston, ...)，來訓練自己的線性迴歸模型。"
   ]
  },
  {
   "cell_type": "markdown",
   "metadata": {},
   "source": [
    "### HINT: 注意 label 的型態，確定資料集的目標是分類還是回歸，在使用正確的模型訓練！"
   ]
  },
  {
   "cell_type": "code",
   "execution_count": 64,
   "metadata": {},
   "outputs": [],
   "source": [
    "import numpy as np\n",
    "import pandas as pd\n",
    "import matplotlib.pyplot as plt\n",
    "from sklearn import datasets, linear_model\n",
    "from sklearn.model_selection import train_test_split\n",
    "from sklearn.metrics import mean_squared_error, r2_score, accuracy_score\n",
    "from sklearn.preprocessing import MinMaxScaler, LabelEncoder\n",
    "\n",
    "\n",
    "import warnings\n",
    "warnings.filterwarnings(action='ignore')"
   ]
  },
  {
   "cell_type": "code",
   "execution_count": 69,
   "metadata": {},
   "outputs": [],
   "source": [
    "def linear_regression(X, y, feature_name):\n",
    "    lr = linear_model.LinearRegression()\n",
    "    X_train, X_test, y_train, y_test = train_test_split(X,y ,test_size=0.25)\n",
    "    lr.fit(X_train,y_train)\n",
    "    y_pred = lr.predict(X_test)\n",
    "    mse = mean_squared_error(y_pred, y_test)\n",
    "    print(\"Feature({})'s MSE = {}\".format(feature_name, mse))\n",
    "    \n",
    "#     plt.scatter(X_test, y_test,  color='black')\n",
    "#     plt.plot(X_test, y_pred, color='blue', linewidth=3)\n",
    "#     plt.show()"
   ]
  },
  {
   "cell_type": "code",
   "execution_count": 19,
   "metadata": {},
   "outputs": [],
   "source": [
    "def linear_regression_dataset(dataset):\n",
    "    y = dataset['target']   \n",
    "    for i, col  in enumerate(dataset['feature_names']):\n",
    "        X= dataset['data'][:,i].reshape(-1,1)  \n",
    "        linear_regression(X, y,col )"
   ]
  },
  {
   "cell_type": "code",
   "execution_count": 70,
   "metadata": {
    "scrolled": true
   },
   "outputs": [
    {
     "name": "stdout",
     "output_type": "stream",
     "text": [
      "Feature(sepal length (cm))'s MSE = 0.35672896321658787\n",
      "Feature(sepal width (cm))'s MSE = 0.5669946952321133\n",
      "Feature(petal length (cm))'s MSE = 0.059669812281790996\n",
      "Feature(petal width (cm))'s MSE = 0.06481420857819145\n"
     ]
    }
   ],
   "source": [
    "# Iris dataset\n",
    "linear_regression_dataset(datasets.load_iris())"
   ]
  },
  {
   "cell_type": "code",
   "execution_count": 71,
   "metadata": {},
   "outputs": [
    {
     "name": "stdout",
     "output_type": "stream",
     "text": [
      "Feature(alcohol)'s MSE = 0.40580752950740745\n",
      "Feature(malic_acid)'s MSE = 0.529264073702479\n",
      "Feature(ash)'s MSE = 0.5021576927089174\n",
      "Feature(alcalinity_of_ash)'s MSE = 0.4645576491191431\n",
      "Feature(magnesium)'s MSE = 0.48203038663690023\n",
      "Feature(total_phenols)'s MSE = 0.25923517852916533\n",
      "Feature(flavanoids)'s MSE = 0.13760129550484554\n",
      "Feature(nonflavanoid_phenols)'s MSE = 0.4426617024028009\n",
      "Feature(proanthocyanins)'s MSE = 0.49017565219713277\n",
      "Feature(color_intensity)'s MSE = 0.4917901586372669\n",
      "Feature(hue)'s MSE = 0.4358452410728211\n",
      "Feature(od280/od315_of_diluted_wines)'s MSE = 0.22693549079150727\n",
      "Feature(proline)'s MSE = 0.3472264558700922\n"
     ]
    }
   ],
   "source": [
    "# Wine dataset\n",
    "linear_regression_dataset(datasets.load_wine())"
   ]
  },
  {
   "cell_type": "code",
   "execution_count": 72,
   "metadata": {},
   "outputs": [
    {
     "name": "stdout",
     "output_type": "stream",
     "text": [
      "Feature(CRIM)'s MSE = 90.68869652851386\n",
      "Feature(ZN)'s MSE = 72.74917802571878\n",
      "Feature(INDUS)'s MSE = 64.88754618231609\n",
      "Feature(CHAS)'s MSE = 81.51108246484146\n",
      "Feature(NOX)'s MSE = 69.06228375952307\n",
      "Feature(RM)'s MSE = 33.99167992527972\n",
      "Feature(AGE)'s MSE = 65.54004686014387\n",
      "Feature(DIS)'s MSE = 89.10988942792073\n",
      "Feature(RAD)'s MSE = 81.24940075471198\n",
      "Feature(TAX)'s MSE = 71.09702394638059\n",
      "Feature(PTRATIO)'s MSE = 58.050588513695345\n",
      "Feature(B)'s MSE = 72.53994849585187\n",
      "Feature(LSTAT)'s MSE = 44.80462196627315\n"
     ]
    }
   ],
   "source": [
    "\n",
    "# boston dataset\n",
    "linear_regression_dataset(datasets.load_boston())"
   ]
  },
  {
   "cell_type": "code",
   "execution_count": 73,
   "metadata": {
    "scrolled": false
   },
   "outputs": [
    {
     "name": "stdout",
     "output_type": "stream",
     "text": [
      "Feature(mean radius)'s MSE = 0.10356120155093489\n",
      "Feature(mean texture)'s MSE = 0.19382821687889723\n",
      "Feature(mean perimeter)'s MSE = 0.09220244879818384\n",
      "Feature(mean area)'s MSE = 0.13740399719470928\n",
      "Feature(mean smoothness)'s MSE = 0.1970520985524285\n",
      "Feature(mean compactness)'s MSE = 0.14298529503922566\n",
      "Feature(mean concavity)'s MSE = 0.11941304020947688\n",
      "Feature(mean concave points)'s MSE = 0.10673520851826981\n",
      "Feature(mean symmetry)'s MSE = 0.22630956376067116\n",
      "Feature(mean fractal dimension)'s MSE = 0.24314087582595262\n",
      "Feature(radius error)'s MSE = 0.1948579246841147\n",
      "Feature(texture error)'s MSE = 0.23175575101408838\n",
      "Feature(perimeter error)'s MSE = 0.14837317928622334\n",
      "Feature(area error)'s MSE = 0.31253517068707554\n",
      "Feature(smoothness error)'s MSE = 0.24020223686721592\n",
      "Feature(compactness error)'s MSE = 0.20333793005921774\n",
      "Feature(concavity error)'s MSE = 0.20543284601539888\n",
      "Feature(concave points error)'s MSE = 0.17334491609036903\n",
      "Feature(symmetry error)'s MSE = 0.22704546084942542\n",
      "Feature(fractal dimension error)'s MSE = 0.23400759119504744\n",
      "Feature(worst radius)'s MSE = 0.08724973803475951\n",
      "Feature(worst texture)'s MSE = 0.18705237317133766\n",
      "Feature(worst perimeter)'s MSE = 0.1045133089074192\n",
      "Feature(worst area)'s MSE = 0.10598628206120318\n",
      "Feature(worst smoothness)'s MSE = 0.18335577528391775\n",
      "Feature(worst compactness)'s MSE = 0.14822022423103856\n",
      "Feature(worst concavity)'s MSE = 0.13060705332171138\n",
      "Feature(worst concave points)'s MSE = 0.08137887684582633\n",
      "Feature(worst symmetry)'s MSE = 0.1970484770468668\n",
      "Feature(worst fractal dimension)'s MSE = 0.23198247364650382\n"
     ]
    }
   ],
   "source": [
    "# breast_cancer dataset\n",
    "linear_regression_dataset(datasets.load_breast_cancer())\n"
   ]
  },
  {
   "cell_type": "code",
   "execution_count": 49,
   "metadata": {},
   "outputs": [],
   "source": [
    "def logistic_regression_dataset(X, y):\n",
    "    lr = linear_model.LogisticRegression()\n",
    "    X_train, X_test, y_train, y_test = train_test_split(X,y ,test_size=0.25)\n",
    "    lr.fit(X_train,y_train)\n",
    "    y_pred = lr.predict(X_test)\n",
    "    r2 = r2_score(y_pred, y_test)\n",
    "    print(\"R2 Score = {}\".format(r2)) \n",
    "    \n",
    "    acc = accuracy_score(y_test, y_pred)\n",
    "    print(\"Accuracy Score = {}\".format(acc))  "
   ]
  },
  {
   "cell_type": "code",
   "execution_count": 50,
   "metadata": {
    "scrolled": true
   },
   "outputs": [
    {
     "name": "stdout",
     "output_type": "stream",
     "text": [
      "R2 Score = 0.9600840336134454\n",
      "Accuracy Score = 0.9736842105263158\n"
     ]
    }
   ],
   "source": [
    "# Iris dataset\n",
    "dataset = datasets.load_iris()\n",
    "logistic_regression_dataset(dataset['data'], dataset['target'])"
   ]
  },
  {
   "cell_type": "code",
   "execution_count": 57,
   "metadata": {
    "scrolled": false
   },
   "outputs": [
    {
     "name": "stdout",
     "output_type": "stream",
     "text": [
      "R2 Score = 0.9675324675324676\n",
      "Accuracy Score = 0.9777777777777777\n"
     ]
    }
   ],
   "source": [
    "# Wine dataset\n",
    "dataset = datasets.load_wine()\n",
    "logistic_regression_dataset(dataset['data'], dataset['target'])"
   ]
  },
  {
   "cell_type": "code",
   "execution_count": 68,
   "metadata": {
    "scrolled": true
   },
   "outputs": [
    {
     "name": "stdout",
     "output_type": "stream",
     "text": [
      "R2 Score = 0.617061724269157\n",
      "Accuracy Score = 0.03937007874015748\n"
     ]
    }
   ],
   "source": [
    "# boston dataset\n",
    "dataset = datasets.load_boston()\n",
    "le = LabelEncoder()\n",
    "target = le.fit_transform(dataset['target'])  # target type is continue, discrete in Label encoder\n",
    "logistic_regression_dataset(dataset['data'],target)"
   ]
  },
  {
   "cell_type": "code",
   "execution_count": 38,
   "metadata": {
    "scrolled": false
   },
   "outputs": [
    {
     "name": "stdout",
     "output_type": "stream",
     "text": [
      "R2 Score = 0.7516283108988276\n",
      "Accuracy Score = 0.9440559440559441\n"
     ]
    }
   ],
   "source": [
    "# breast_cancer dataset\n",
    "logistic_regression_dataset(datasets.load_breast_cancer())"
   ]
  },
  {
   "cell_type": "code",
   "execution_count": null,
   "metadata": {},
   "outputs": [],
   "source": []
  }
 ],
 "metadata": {
  "kernelspec": {
   "display_name": "Python 3",
   "language": "python",
   "name": "python3"
  },
  "language_info": {
   "codemirror_mode": {
    "name": "ipython",
    "version": 3
   },
   "file_extension": ".py",
   "mimetype": "text/x-python",
   "name": "python",
   "nbconvert_exporter": "python",
   "pygments_lexer": "ipython3",
   "version": "3.7.3"
  },
  "varInspector": {
   "cols": {
    "lenName": 16,
    "lenType": 16,
    "lenVar": 40
   },
   "kernels_config": {
    "python": {
     "delete_cmd_postfix": "",
     "delete_cmd_prefix": "del ",
     "library": "var_list.py",
     "varRefreshCmd": "print(var_dic_list())"
    },
    "r": {
     "delete_cmd_postfix": ") ",
     "delete_cmd_prefix": "rm(",
     "library": "var_list.r",
     "varRefreshCmd": "cat(var_dic_list()) "
    }
   },
   "types_to_exclude": [
    "module",
    "function",
    "builtin_function_or_method",
    "instance",
    "_Feature"
   ],
   "window_display": false
  }
 },
 "nbformat": 4,
 "nbformat_minor": 2
}
