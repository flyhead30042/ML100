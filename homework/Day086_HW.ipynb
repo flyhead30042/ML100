{
 "cells": [
  {
   "cell_type": "markdown",
   "metadata": {},
   "source": [
    "## Work\n",
    "1. 試比較 save_best_only 與否的差異\n",
    "2. 請僅存入將 save_weights_only 設定為 True, 並嘗試 reset ipynb 並將模型與權重重新建回並預測 x_test"
   ]
  },
  {
   "cell_type": "code",
   "execution_count": 1,
   "metadata": {},
   "outputs": [
    {
     "name": "stderr",
     "output_type": "stream",
     "text": [
      "Using TensorFlow backend.\n"
     ]
    }
   ],
   "source": [
    "import os\n",
    "import keras\n",
    "\n",
    "# Disable GPU\n",
    "os.environ[\"CUDA_VISIBLE_DEVICES\"] = \"\""
   ]
  },
  {
   "cell_type": "code",
   "execution_count": 2,
   "metadata": {},
   "outputs": [],
   "source": [
    "train, test = keras.datasets.cifar10.load_data()"
   ]
  },
  {
   "cell_type": "code",
   "execution_count": 3,
   "metadata": {},
   "outputs": [],
   "source": [
    "## 資料前處理\n",
    "from sklearn.preprocessing import StandardScaler, MinMaxScaler\n",
    "\n",
    "scaler = StandardScaler()\n",
    "def preproc_x(x):\n",
    "    x = x.astype(\"float32\")\n",
    "    x = x.reshape(x.shape[0],-1)\n",
    "    x = scaler.fit_transform(x)\n",
    "    return x\n",
    "\n",
    "def preproc_y(y):\n",
    "    y = keras.utils.to_categorical(y, num_classes=10)\n",
    "    return y      "
   ]
  },
  {
   "cell_type": "code",
   "execution_count": 4,
   "metadata": {},
   "outputs": [],
   "source": [
    "x_train, y_train = train\n",
    "x_test, y_test = test\n",
    "\n",
    "# Preproc the inputs\n",
    "x_train = preproc_x(x_train)\n",
    "x_test = preproc_x(x_test)\n",
    "\n",
    "# Preprc the outputs\n",
    "y_train = preproc_y(y_train)\n",
    "y_test = preproc_y(y_test)"
   ]
  },
  {
   "cell_type": "code",
   "execution_count": 5,
   "metadata": {},
   "outputs": [],
   "source": [
    "\"\"\"\n",
    "建立你的神經網路\n",
    "\"\"\"\n",
    "from keras.models import Sequential\n",
    "from keras.layers import Dense, Dropout, BatchNormalization\n",
    "\n",
    "def build_mlp(input_dim, layer_output_units, output_units, regularizer=None, dropout_ratio=None, isBN=False):\n",
    "    model = Sequential()\n",
    "    for i, untis in enumerate(layer_output_units):  \n",
    "        if i == 0:\n",
    "            model.add(Dense(units=untis, \n",
    "                            input_dim=input_dim,\n",
    "                            kernel_initializer='normal',\n",
    "                            kernel_regularizer=regularizer, \n",
    "                            activation='relu'))\n",
    "            if isBN:\n",
    "                model.add(BatchNormalization())\n",
    "        else:\n",
    "            model.add(Dense(units=untis,\n",
    "                            kernel_initializer='normal',\n",
    "                            kernel_regularizer=regularizer, \n",
    "                            activation='relu'))\n",
    "            if isBN:\n",
    "                model.add(BatchNormalization())\n",
    "\n",
    "    if dropout_ratio:\n",
    "        model.add(Dropout(dropout_ratio))\n",
    "        \n",
    "    model.add(Dense(units=output_units,\n",
    "                kernel_initializer='normal', \n",
    "                activation='softmax'))\n",
    "    return model  "
   ]
  },
  {
   "cell_type": "code",
   "execution_count": 6,
   "metadata": {},
   "outputs": [],
   "source": [
    "\"\"\"\n",
    "訓練模型\n",
    "\"\"\"\n",
    "def complie_train_model(model, optimizer, epochs, batch_size, callbacks,   x_train, y_train, x_test, y_test):\n",
    "    model.compile(loss=\"categorical_crossentropy\", metrics=[\"accuracy\"], optimizer= optimizer)\n",
    "    model.fit(x_train, y_train, \n",
    "          epochs= epochs, \n",
    "          batch_size=batch_size, \n",
    "          validation_data=(x_test, y_test), \n",
    "          callbacks=callbacks, \n",
    "          shuffle=True)\n",
    "    return model"
   ]
  },
  {
   "cell_type": "code",
   "execution_count": 7,
   "metadata": {},
   "outputs": [],
   "source": [
    "\"\"\"\n",
    "以視覺畫方式檢視訓練過程\n",
    "\"\"\"\n",
    "import pandas as pd\n",
    "import seaborn as sns\n",
    "import matplotlib.pyplot as plt\n",
    "\n",
    "def show_train_history(results):\n",
    "    for i, result in enumerate(results):\n",
    "        history = result[\"model\"].history.history\n",
    "        tag = \"({})\".format(result[\"tag\"])\n",
    "        df_acc = pd.DataFrame({\"acc\"+tag:history[\"acc\"], \"val_acc\"+tag:history[\"val_acc\"]})\n",
    "        df_loss = pd.DataFrame({\"loss\"+tag:history[\"loss\"], \"val_loss\"+tag:history[\"val_loss\"]})\n",
    "        if i ==0:\n",
    "            df_acc_results = df_acc.copy()\n",
    "            df_loss_results = df_loss.copy()\n",
    "        else:\n",
    "            df_acc_results= pd.concat([df_acc_results, df_acc], axis=1)\n",
    "            df_loss_results= pd.concat([df_loss_results, df_loss], axis=1)    \n",
    "\n",
    "    fig, ax = plt.subplots(1,2, figsize=(18,5))\n",
    "    styles = ['bs-','ro-','y^-', 'g--']    \n",
    "    g1 = df_acc_results.plot.line(style=styles, ax =ax[0])\n",
    "    g1.set_xlabel(\"Epoch\")\n",
    "    g1.set_ylabel(\"Acc\") \n",
    "    \n",
    "    g2 = df_loss_results.plot.line(style=styles, ax =ax[1])\n",
    "    g2.set_xlabel(\"Epoch\")\n",
    "    g2.set_ylabel(\"Loss\") \n",
    "    return df_acc_results, df_loss_results, g1, g2"
   ]
  },
  {
   "cell_type": "code",
   "execution_count": 8,
   "metadata": {},
   "outputs": [],
   "source": [
    "\"\"\"\n",
    "設定 callbacks\n",
    "\"\"\"\n",
    "\n",
    "from keras.callbacks import ModelCheckpoint, EarlyStopping\n",
    "\n",
    "def setup_callbacks(ismodelckpt=False, isearlystop=False, monitor=\"val_loss\", save_only=\"best\", patience=5):\n",
    "    cbs=list()\n",
    "    \n",
    "    if ismodelckpt:\n",
    "        modelckpt = ModelCheckpoint(filepath=\"./tmp.h5\",\n",
    "                                    monitor=monitor, \n",
    "                                    save_best_only=\"best\" in save_only,\n",
    "                                    save_weights_only=\"weights\" in save_only)\n",
    "        cbs.append(modelckpt)\n",
    "    if isearlystop:\n",
    "        earlystop = EarlyStopping(monitor=monitor, \n",
    "                                  patience=patience, \n",
    "                                  verbose=1)\n",
    "        cbs.append(earlystop)\n",
    "    return cbs"
   ]
  },
  {
   "cell_type": "code",
   "execution_count": 15,
   "metadata": {},
   "outputs": [],
   "source": [
    "\"\"\"Code Here\n",
    "設定超參數\n",
    "\"\"\"\n",
    "EPOCHS = 20\n",
    "BATCH_SIZE=256\n",
    "L2_EXP = 1e-3\n",
    "LEARNING_RATE = 1e-3\n",
    "MOMENTUM = 0.95\n",
    "DROPOUT_EXP = 0.25"
   ]
  },
  {
   "cell_type": "markdown",
   "metadata": {},
   "source": [
    "# model_checkpoint save_best_only= True"
   ]
  },
  {
   "cell_type": "code",
   "execution_count": 16,
   "metadata": {},
   "outputs": [
    {
     "name": "stdout",
     "output_type": "stream",
     "text": [
      "Train on 50000 samples, validate on 10000 samples\n",
      "Epoch 1/20\n",
      "50000/50000 [==============================] - 25s 492us/step - loss: 35.2203 - acc: 0.2837 - val_loss: 33.2024 - val_acc: 0.3743\n",
      "Epoch 2/20\n",
      "50000/50000 [==============================] - 17s 338us/step - loss: 31.4660 - acc: 0.3873 - val_loss: 29.6984 - val_acc: 0.4190s - loss: 31.5132 -\n",
      "Epoch 3/20\n",
      "50000/50000 [==============================] - 18s 355us/step - loss: 28.1110 - acc: 0.4180 - val_loss: 26.4947 - val_acc: 0.4419\n",
      "Epoch 4/20\n",
      "50000/50000 [==============================] - 17s 331us/step - loss: 25.0353 - acc: 0.4398 - val_loss: 23.5606 - val_acc: 0.4556\n",
      "Epoch 5/20\n",
      "50000/50000 [==============================] - 30s 602us/step - loss: 22.2186 - acc: 0.4572 - val_loss: 20.8805 - val_acc: 0.4663\n",
      "Epoch 6/20\n",
      "50000/50000 [==============================] - 22s 431us/step - loss: 19.6521 - acc: 0.4723 - val_loss: 18.4393 - val_acc: 0.4792\n",
      "Epoch 7/20\n",
      "50000/50000 [==============================] - 31s 627us/step - loss: 17.3148 - acc: 0.4874 - val_loss: 16.2294 - val_acc: 0.4883\n",
      "Epoch 8/20\n",
      "50000/50000 [==============================] - 27s 532us/step - loss: 15.2086 - acc: 0.4981 - val_loss: 14.2428 - val_acc: 0.4942\n",
      "Epoch 9/20\n",
      "50000/50000 [==============================] - 25s 502us/step - loss: 13.3205 - acc: 0.5061 - val_loss: 12.4652 - val_acc: 0.5034\n",
      "Epoch 10/20\n",
      "50000/50000 [==============================] - 21s 423us/step - loss: 11.6324 - acc: 0.5163 - val_loss: 10.8909 - val_acc: 0.5025\n",
      "Epoch 11/20\n",
      "50000/50000 [==============================] - 22s 433us/step - loss: 10.1419 - acc: 0.5220 - val_loss: 9.5032 - val_acc: 0.5054\n",
      "Epoch 12/20\n",
      "50000/50000 [==============================] - 16s 311us/step - loss: 8.8261 - acc: 0.5301 - val_loss: 8.2918 - val_acc: 0.5111\n",
      "Epoch 13/20\n",
      "50000/50000 [==============================] - 15s 302us/step - loss: 7.6907 - acc: 0.5341 - val_loss: 7.2362 - val_acc: 0.5111\n",
      "Epoch 14/20\n",
      "50000/50000 [==============================] - 18s 350us/step - loss: 6.7040 - acc: 0.5352 - val_loss: 6.3361 - val_acc: 0.5104\n",
      "Epoch 15/20\n",
      "50000/50000 [==============================] - 21s 411us/step - loss: 5.8687 - acc: 0.5397 - val_loss: 5.5729 - val_acc: 0.5059\n",
      "Epoch 16/20\n",
      "50000/50000 [==============================] - 23s 465us/step - loss: 5.1505 - acc: 0.5397 - val_loss: 4.9258 - val_acc: 0.5069\n",
      "Epoch 17/20\n",
      "50000/50000 [==============================] - 27s 541us/step - loss: 4.5550 - acc: 0.5377 - val_loss: 4.3933 - val_acc: 0.5055\n",
      "Epoch 18/20\n",
      "50000/50000 [==============================] - 16s 329us/step - loss: 4.0608 - acc: 0.5354 - val_loss: 3.9202 - val_acc: 0.5079\n",
      "Epoch 19/20\n",
      "50000/50000 [==============================] - 18s 360us/step - loss: 3.6468 - acc: 0.5344 - val_loss: 3.5678 - val_acc: 0.4946\n",
      "Epoch 20/20\n",
      "50000/50000 [==============================] - 17s 339us/step - loss: 3.3189 - acc: 0.5317 - val_loss: 3.2556 - val_acc: 0.4997- loss: 3.337 - ETA: 1s - loss: 3.32\n"
     ]
    }
   ],
   "source": [
    "# 載入 Callbacks\n",
    "\n",
    "results = list()\n",
    "\n",
    "keras.backend.clear_session() # 把舊的 Graph 清掉\n",
    "regularizer = keras.regularizers.l1_l2(l1=L2_EXP, l2=L2_EXP)\n",
    "model = build_mlp(input_dim=x_train.shape[1], layer_output_units=[256,128], output_units=10, regularizer=regularizer, dropout_ratio=DROPOUT_EXP, isBN=True)\n",
    "optimizer =  keras.optimizers.SGD(lr=LEARNING_RATE, nesterov=True, momentum=MOMENTUM)\n",
    "callbacks = setup_callbacks(ismodelckpt=True, save_only=\"best\")\n",
    "model = complie_train_model(model=model, optimizer=optimizer,  epochs=EPOCHS , batch_size=BATCH_SIZE, callbacks=callbacks, x_train=x_train, y_train=y_train, x_test=x_test, y_test=y_test)\n",
    "results.append({\"tag\": \"save_only=best\", \"model\":model})"
   ]
  },
  {
   "cell_type": "markdown",
   "metadata": {},
   "source": [
    "# Evaluta test data"
   ]
  },
  {
   "cell_type": "code",
   "execution_count": 17,
   "metadata": {},
   "outputs": [
    {
     "name": "stdout",
     "output_type": "stream",
     "text": [
      "10000/10000 [==============================] - 4s 352us/step\n",
      "[3.255628981781006, 0.4997]\n"
     ]
    }
   ],
   "source": [
    "train_hist= model.evaluate(x_test, y_test)\n",
    "print(train_hist)"
   ]
  },
  {
   "cell_type": "markdown",
   "metadata": {},
   "source": [
    "# Loadback model and evaluta test data"
   ]
  },
  {
   "cell_type": "code",
   "execution_count": 18,
   "metadata": {},
   "outputs": [
    {
     "name": "stdout",
     "output_type": "stream",
     "text": [
      "10000/10000 [==============================] - 5s 465us/step\n",
      "[3.255628981781006, 0.4997]\n"
     ]
    }
   ],
   "source": [
    "model = keras.models.load_model(\"./tmp.h5\")\n",
    "loadback_hist = model.evaluate(x_test, y_test)\n",
    "print(loadback_hist)"
   ]
  },
  {
   "cell_type": "code",
   "execution_count": null,
   "metadata": {},
   "outputs": [],
   "source": []
  },
  {
   "cell_type": "markdown",
   "metadata": {},
   "source": [
    "# model_checkpoint save_weights_only= True"
   ]
  },
  {
   "cell_type": "code",
   "execution_count": 19,
   "metadata": {},
   "outputs": [
    {
     "name": "stdout",
     "output_type": "stream",
     "text": [
      "Train on 50000 samples, validate on 10000 samples\n",
      "Epoch 1/20\n",
      "50000/50000 [==============================] - 22s 442us/step - loss: 35.2115 - acc: 0.2862 - val_loss: 33.1903 - val_acc: 0.3819TA: 2s - loss: 35. - ETA: 1s - l\n",
      "Epoch 2/20\n",
      "50000/50000 [==============================] - 18s 363us/step - loss: 31.4616 - acc: 0.3864 - val_loss: 29.6886 - val_acc: 0.4195\n",
      "Epoch 3/20\n",
      "50000/50000 [==============================] - 19s 372us/step - loss: 28.1017 - acc: 0.4216 - val_loss: 26.4876 - val_acc: 0.4432\n",
      "Epoch 4/20\n",
      "50000/50000 [==============================] - 17s 335us/step - loss: 25.0267 - acc: 0.4424 - val_loss: 23.5529 - val_acc: 0.4587\n",
      "Epoch 5/20\n",
      "50000/50000 [==============================] - 17s 331us/step - loss: 22.2089 - acc: 0.4602 - val_loss: 20.8730 - val_acc: 0.4700\n",
      "Epoch 6/20\n",
      "50000/50000 [==============================] - 18s 362us/step - loss: 19.6365 - acc: 0.4738 - val_loss: 18.4335 - val_acc: 0.4810\n",
      "Epoch 7/20\n",
      "50000/50000 [==============================] - 20s 408us/step - loss: 17.3026 - acc: 0.4856 - val_loss: 16.2314 - val_acc: 0.4829\n",
      "Epoch 8/20\n",
      "50000/50000 [==============================] - 17s 337us/step - loss: 15.2014 - acc: 0.4952 - val_loss: 14.2463 - val_acc: 0.4913\n",
      "Epoch 9/20\n",
      "50000/50000 [==============================] - 20s 405us/step - loss: 13.3095 - acc: 0.5041 - val_loss: 12.4753 - val_acc: 0.4994\n",
      "Epoch 10/20\n",
      "50000/50000 [==============================] - 25s 492us/step - loss: 11.6233 - acc: 0.5150 - val_loss: 10.8921 - val_acc: 0.5018\n",
      "Epoch 11/20\n",
      "50000/50000 [==============================] - 21s 410us/step - loss: 10.1274 - acc: 0.5235 - val_loss: 9.5184 - val_acc: 0.4995\n",
      "Epoch 12/20\n",
      "50000/50000 [==============================] - 21s 425us/step - loss: 8.8216 - acc: 0.5297 - val_loss: 8.2940 - val_acc: 0.5073\n",
      "Epoch 13/20\n",
      "50000/50000 [==============================] - 18s 355us/step - loss: 7.6820 - acc: 0.5366 - val_loss: 7.2439 - val_acc: 0.5043\n",
      "Epoch 14/20\n",
      "50000/50000 [==============================] - 19s 380us/step - loss: 6.7031 - acc: 0.5356 - val_loss: 6.3463 - val_acc: 0.5055\n",
      "Epoch 15/20\n",
      "50000/50000 [==============================] - 19s 380us/step - loss: 5.8548 - acc: 0.5426 - val_loss: 5.5709 - val_acc: 0.5082\n",
      "Epoch 16/20\n",
      "50000/50000 [==============================] - 21s 427us/step - loss: 5.1465 - acc: 0.5382 - val_loss: 4.9087 - val_acc: 0.5099 - loss: 5.1629 \n",
      "Epoch 17/20\n",
      "50000/50000 [==============================] - 17s 346us/step - loss: 4.5516 - acc: 0.5408 - val_loss: 4.3948 - val_acc: 0.5035 los - ETA: 6s - loss: 4.6452 - ETA: 5s - loss: 4 - ETA: 3s - l - ETA: 1s - loss: \n",
      "Epoch 18/20\n",
      "50000/50000 [==============================] - 17s 336us/step - loss: 4.0481 - acc: 0.5385 - val_loss: 3.9082 - val_acc: 0.5087\n",
      "Epoch 19/20\n",
      "50000/50000 [==============================] - 17s 340us/step - loss: 3.6424 - acc: 0.5347 - val_loss: 3.5424 - val_acc: 0.5016\n",
      "Epoch 20/20\n",
      "50000/50000 [==============================] - 17s 340us/step - loss: 3.3133 - acc: 0.5312 - val_loss: 3.2504 - val_acc: 0.4977\n"
     ]
    }
   ],
   "source": [
    "# 載入 Callbacks\n",
    "\n",
    "results = list()\n",
    "\n",
    "keras.backend.clear_session() # 把舊的 Graph 清掉\n",
    "regularizer = keras.regularizers.l1_l2(l1=L2_EXP, l2=L2_EXP)\n",
    "model = build_mlp(input_dim=x_train.shape[1], layer_output_units=[256,128], output_units=10, regularizer=regularizer, dropout_ratio=DROPOUT_EXP, isBN=True)\n",
    "optimizer =  keras.optimizers.SGD(lr=LEARNING_RATE, nesterov=True, momentum=MOMENTUM)\n",
    "callbacks = setup_callbacks(ismodelckpt=True, save_only=\"weights\")\n",
    "model = complie_train_model(model=model, optimizer=optimizer,  epochs=EPOCHS , batch_size=BATCH_SIZE, callbacks=callbacks, x_train=x_train, y_train=y_train, x_test=x_test, y_test=y_test)\n",
    "results.append({\"tag\": \"save_only=weights\", \"model\":model})"
   ]
  },
  {
   "cell_type": "markdown",
   "metadata": {},
   "source": [
    "# Evaluta test data"
   ]
  },
  {
   "cell_type": "code",
   "execution_count": 20,
   "metadata": {},
   "outputs": [
    {
     "name": "stdout",
     "output_type": "stream",
     "text": [
      "10000/10000 [==============================] - 6s 622us/step\n",
      "[3.25037725982666, 0.4977]\n"
     ]
    }
   ],
   "source": [
    "train_hist= model.evaluate(x_test, y_test)\n",
    "print(train_hist)"
   ]
  },
  {
   "cell_type": "markdown",
   "metadata": {},
   "source": [
    "# Loadback model and evaluta test data"
   ]
  },
  {
   "cell_type": "code",
   "execution_count": 21,
   "metadata": {},
   "outputs": [
    {
     "name": "stdout",
     "output_type": "stream",
     "text": [
      "10000/10000 [==============================] - 5s 459us/step\n",
      "[3.25037725982666, 0.4977]\n"
     ]
    }
   ],
   "source": [
    "model.load_weights(\"./tmp.h5\")\n",
    "loadback_hist = model.evaluate(x_test, y_test)\n",
    "print(loadback_hist)"
   ]
  },
  {
   "cell_type": "code",
   "execution_count": null,
   "metadata": {},
   "outputs": [],
   "source": []
  }
 ],
 "metadata": {
  "kernelspec": {
   "display_name": "Python 3",
   "language": "python",
   "name": "python3"
  },
  "language_info": {
   "codemirror_mode": {
    "name": "ipython",
    "version": 3
   },
   "file_extension": ".py",
   "mimetype": "text/x-python",
   "name": "python",
   "nbconvert_exporter": "python",
   "pygments_lexer": "ipython3",
   "version": "3.7.3"
  }
 },
 "nbformat": 4,
 "nbformat_minor": 4
}
